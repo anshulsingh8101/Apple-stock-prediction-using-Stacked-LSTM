{
 "cells": [
  {
   "cell_type": "code",
   "execution_count": 1,
   "metadata": {},
   "outputs": [],
   "source": [
    "import pandas_datareader as pdr\n",
    "key=\"233d1a197c97829aa241494ef134f32e8c6143a6\""
   ]
  },
  {
   "cell_type": "code",
   "execution_count": 2,
   "metadata": {},
   "outputs": [],
   "source": [
    "df = pdr.get_data_tiingo('AAPL', api_key=key)"
   ]
  },
  {
   "cell_type": "code",
   "execution_count": 3,
   "metadata": {},
   "outputs": [],
   "source": [
    "df.to_csv('Apple.csv')"
   ]
  },
  {
   "cell_type": "code",
   "execution_count": 4,
   "metadata": {},
   "outputs": [
    {
     "data": {
      "text/html": [
       "<div>\n",
       "<style scoped>\n",
       "    .dataframe tbody tr th:only-of-type {\n",
       "        vertical-align: middle;\n",
       "    }\n",
       "\n",
       "    .dataframe tbody tr th {\n",
       "        vertical-align: top;\n",
       "    }\n",
       "\n",
       "    .dataframe thead th {\n",
       "        text-align: right;\n",
       "    }\n",
       "</style>\n",
       "<table border=\"1\" class=\"dataframe\">\n",
       "  <thead>\n",
       "    <tr style=\"text-align: right;\">\n",
       "      <th></th>\n",
       "      <th></th>\n",
       "      <th>close</th>\n",
       "      <th>high</th>\n",
       "      <th>low</th>\n",
       "      <th>open</th>\n",
       "      <th>volume</th>\n",
       "      <th>adjClose</th>\n",
       "      <th>adjHigh</th>\n",
       "      <th>adjLow</th>\n",
       "      <th>adjOpen</th>\n",
       "      <th>adjVolume</th>\n",
       "      <th>divCash</th>\n",
       "      <th>splitFactor</th>\n",
       "    </tr>\n",
       "    <tr>\n",
       "      <th>symbol</th>\n",
       "      <th>date</th>\n",
       "      <th></th>\n",
       "      <th></th>\n",
       "      <th></th>\n",
       "      <th></th>\n",
       "      <th></th>\n",
       "      <th></th>\n",
       "      <th></th>\n",
       "      <th></th>\n",
       "      <th></th>\n",
       "      <th></th>\n",
       "      <th></th>\n",
       "      <th></th>\n",
       "    </tr>\n",
       "  </thead>\n",
       "  <tbody>\n",
       "    <tr>\n",
       "      <th rowspan=\"5\" valign=\"top\">AAPL</th>\n",
       "      <th>2016-01-15 00:00:00+00:00</th>\n",
       "      <td>97.13</td>\n",
       "      <td>97.7100</td>\n",
       "      <td>95.36</td>\n",
       "      <td>96.20</td>\n",
       "      <td>79833891</td>\n",
       "      <td>22.494199</td>\n",
       "      <td>22.628520</td>\n",
       "      <td>22.084287</td>\n",
       "      <td>22.278822</td>\n",
       "      <td>319335564</td>\n",
       "      <td>0.0</td>\n",
       "      <td>1.0</td>\n",
       "    </tr>\n",
       "    <tr>\n",
       "      <th>2016-01-19 00:00:00+00:00</th>\n",
       "      <td>96.66</td>\n",
       "      <td>98.6500</td>\n",
       "      <td>95.50</td>\n",
       "      <td>98.41</td>\n",
       "      <td>53087747</td>\n",
       "      <td>22.385352</td>\n",
       "      <td>22.846214</td>\n",
       "      <td>22.116710</td>\n",
       "      <td>22.790632</td>\n",
       "      <td>212350988</td>\n",
       "      <td>0.0</td>\n",
       "      <td>1.0</td>\n",
       "    </tr>\n",
       "    <tr>\n",
       "      <th>2016-01-20 00:00:00+00:00</th>\n",
       "      <td>96.79</td>\n",
       "      <td>98.1897</td>\n",
       "      <td>93.42</td>\n",
       "      <td>95.10</td>\n",
       "      <td>72334416</td>\n",
       "      <td>22.415459</td>\n",
       "      <td>22.739613</td>\n",
       "      <td>21.635005</td>\n",
       "      <td>22.024074</td>\n",
       "      <td>289337664</td>\n",
       "      <td>0.0</td>\n",
       "      <td>1.0</td>\n",
       "    </tr>\n",
       "    <tr>\n",
       "      <th>2016-01-21 00:00:00+00:00</th>\n",
       "      <td>96.30</td>\n",
       "      <td>97.8800</td>\n",
       "      <td>94.94</td>\n",
       "      <td>97.06</td>\n",
       "      <td>52161463</td>\n",
       "      <td>22.301980</td>\n",
       "      <td>22.667890</td>\n",
       "      <td>21.987020</td>\n",
       "      <td>22.477988</td>\n",
       "      <td>208645852</td>\n",
       "      <td>0.0</td>\n",
       "      <td>1.0</td>\n",
       "    </tr>\n",
       "    <tr>\n",
       "      <th>2016-01-22 00:00:00+00:00</th>\n",
       "      <td>101.42</td>\n",
       "      <td>101.4600</td>\n",
       "      <td>98.37</td>\n",
       "      <td>98.63</td>\n",
       "      <td>65800467</td>\n",
       "      <td>23.487714</td>\n",
       "      <td>23.496977</td>\n",
       "      <td>22.781369</td>\n",
       "      <td>22.841582</td>\n",
       "      <td>263201868</td>\n",
       "      <td>0.0</td>\n",
       "      <td>1.0</td>\n",
       "    </tr>\n",
       "  </tbody>\n",
       "</table>\n",
       "</div>"
      ],
      "text/plain": [
       "                                   close      high    low   open    volume  \\\n",
       "symbol date                                                                  \n",
       "AAPL   2016-01-15 00:00:00+00:00   97.13   97.7100  95.36  96.20  79833891   \n",
       "       2016-01-19 00:00:00+00:00   96.66   98.6500  95.50  98.41  53087747   \n",
       "       2016-01-20 00:00:00+00:00   96.79   98.1897  93.42  95.10  72334416   \n",
       "       2016-01-21 00:00:00+00:00   96.30   97.8800  94.94  97.06  52161463   \n",
       "       2016-01-22 00:00:00+00:00  101.42  101.4600  98.37  98.63  65800467   \n",
       "\n",
       "                                   adjClose    adjHigh     adjLow    adjOpen  \\\n",
       "symbol date                                                                    \n",
       "AAPL   2016-01-15 00:00:00+00:00  22.494199  22.628520  22.084287  22.278822   \n",
       "       2016-01-19 00:00:00+00:00  22.385352  22.846214  22.116710  22.790632   \n",
       "       2016-01-20 00:00:00+00:00  22.415459  22.739613  21.635005  22.024074   \n",
       "       2016-01-21 00:00:00+00:00  22.301980  22.667890  21.987020  22.477988   \n",
       "       2016-01-22 00:00:00+00:00  23.487714  23.496977  22.781369  22.841582   \n",
       "\n",
       "                                  adjVolume  divCash  splitFactor  \n",
       "symbol date                                                        \n",
       "AAPL   2016-01-15 00:00:00+00:00  319335564      0.0          1.0  \n",
       "       2016-01-19 00:00:00+00:00  212350988      0.0          1.0  \n",
       "       2016-01-20 00:00:00+00:00  289337664      0.0          1.0  \n",
       "       2016-01-21 00:00:00+00:00  208645852      0.0          1.0  \n",
       "       2016-01-22 00:00:00+00:00  263201868      0.0          1.0  "
      ]
     },
     "execution_count": 4,
     "metadata": {},
     "output_type": "execute_result"
    }
   ],
   "source": [
    "df.head()"
   ]
  },
  {
   "cell_type": "code",
   "execution_count": 5,
   "metadata": {},
   "outputs": [],
   "source": [
    "df1=df.reset_index()['close']"
   ]
  },
  {
   "cell_type": "code",
   "execution_count": 6,
   "metadata": {},
   "outputs": [
    {
     "data": {
      "text/plain": [
       "1257"
      ]
     },
     "execution_count": 6,
     "metadata": {},
     "output_type": "execute_result"
    }
   ],
   "source": [
    "len(df1)"
   ]
  },
  {
   "cell_type": "code",
   "execution_count": 7,
   "metadata": {},
   "outputs": [
    {
     "data": {
      "text/plain": [
       "0     97.13\n",
       "1     96.66\n",
       "2     96.79\n",
       "3     96.30\n",
       "4    101.42\n",
       "Name: close, dtype: float64"
      ]
     },
     "execution_count": 7,
     "metadata": {},
     "output_type": "execute_result"
    }
   ],
   "source": [
    "df1.head()"
   ]
  },
  {
   "cell_type": "code",
   "execution_count": null,
   "metadata": {},
   "outputs": [],
   "source": []
  },
  {
   "cell_type": "code",
   "execution_count": null,
   "metadata": {},
   "outputs": [],
   "source": []
  },
  {
   "cell_type": "code",
   "execution_count": 8,
   "metadata": {},
   "outputs": [
    {
     "data": {
      "text/plain": [
       "0"
      ]
     },
     "execution_count": 8,
     "metadata": {},
     "output_type": "execute_result"
    }
   ],
   "source": [
    "df[\"close\"].isnull().sum()"
   ]
  },
  {
   "cell_type": "code",
   "execution_count": 9,
   "metadata": {},
   "outputs": [
    {
     "data": {
      "text/plain": [
       "[<matplotlib.lines.Line2D at 0x246497b7580>]"
      ]
     },
     "execution_count": 9,
     "metadata": {},
     "output_type": "execute_result"
    },
    {
     "data": {
      "image/png": "[encoded data removed]",
      "text/plain": [
       "<Figure size 432x288 with 1 Axes>"
      ]
     },
     "metadata": {
      "needs_background": "light"
     },
     "output_type": "display_data"
    }
   ],
   "source": [
    "import matplotlib.pyplot as plt\n",
    "plt.plot(df1)"
   ]
  },
  {
   "cell_type": "code",
   "execution_count": 10,
   "metadata": {},
   "outputs": [
    {
     "data": {
      "text/html": [
       "<div>\n",
       "<style scoped>\n",
       "    .dataframe tbody tr th:only-of-type {\n",
       "        vertical-align: middle;\n",
       "    }\n",
       "\n",
       "    .dataframe tbody tr th {\n",
       "        vertical-align: top;\n",
       "    }\n",
       "\n",
       "    .dataframe thead th {\n",
       "        text-align: right;\n",
       "    }\n",
       "</style>\n",
       "<table border=\"1\" class=\"dataframe\">\n",
       "  <thead>\n",
       "    <tr style=\"text-align: right;\">\n",
       "      <th></th>\n",
       "      <th></th>\n",
       "      <th>close</th>\n",
       "      <th>high</th>\n",
       "      <th>low</th>\n",
       "      <th>open</th>\n",
       "      <th>volume</th>\n",
       "      <th>adjClose</th>\n",
       "      <th>adjHigh</th>\n",
       "      <th>adjLow</th>\n",
       "      <th>adjOpen</th>\n",
       "      <th>adjVolume</th>\n",
       "      <th>divCash</th>\n",
       "      <th>splitFactor</th>\n",
       "    </tr>\n",
       "    <tr>\n",
       "      <th>symbol</th>\n",
       "      <th>date</th>\n",
       "      <th></th>\n",
       "      <th></th>\n",
       "      <th></th>\n",
       "      <th></th>\n",
       "      <th></th>\n",
       "      <th></th>\n",
       "      <th></th>\n",
       "      <th></th>\n",
       "      <th></th>\n",
       "      <th></th>\n",
       "      <th></th>\n",
       "      <th></th>\n",
       "    </tr>\n",
       "  </thead>\n",
       "  <tbody>\n",
       "    <tr>\n",
       "      <th rowspan=\"5\" valign=\"top\">AAPL</th>\n",
       "      <th>2021-01-06 00:00:00+00:00</th>\n",
       "      <td>126.60</td>\n",
       "      <td>131.0499</td>\n",
       "      <td>126.382</td>\n",
       "      <td>127.72</td>\n",
       "      <td>155087970</td>\n",
       "      <td>126.60</td>\n",
       "      <td>131.0499</td>\n",
       "      <td>126.382</td>\n",
       "      <td>127.72</td>\n",
       "      <td>155087970</td>\n",
       "      <td>0.0</td>\n",
       "      <td>1.0</td>\n",
       "    </tr>\n",
       "    <tr>\n",
       "      <th>2021-01-07 00:00:00+00:00</th>\n",
       "      <td>130.92</td>\n",
       "      <td>131.6300</td>\n",
       "      <td>127.860</td>\n",
       "      <td>128.36</td>\n",
       "      <td>109578157</td>\n",
       "      <td>130.92</td>\n",
       "      <td>131.6300</td>\n",
       "      <td>127.860</td>\n",
       "      <td>128.36</td>\n",
       "      <td>109578157</td>\n",
       "      <td>0.0</td>\n",
       "      <td>1.0</td>\n",
       "    </tr>\n",
       "    <tr>\n",
       "      <th>2021-01-08 00:00:00+00:00</th>\n",
       "      <td>132.05</td>\n",
       "      <td>132.6300</td>\n",
       "      <td>130.230</td>\n",
       "      <td>132.43</td>\n",
       "      <td>105158245</td>\n",
       "      <td>132.05</td>\n",
       "      <td>132.6300</td>\n",
       "      <td>130.230</td>\n",
       "      <td>132.43</td>\n",
       "      <td>105158245</td>\n",
       "      <td>0.0</td>\n",
       "      <td>1.0</td>\n",
       "    </tr>\n",
       "    <tr>\n",
       "      <th>2021-01-11 00:00:00+00:00</th>\n",
       "      <td>128.98</td>\n",
       "      <td>130.1700</td>\n",
       "      <td>128.500</td>\n",
       "      <td>129.19</td>\n",
       "      <td>100620880</td>\n",
       "      <td>128.98</td>\n",
       "      <td>130.1700</td>\n",
       "      <td>128.500</td>\n",
       "      <td>129.19</td>\n",
       "      <td>100620880</td>\n",
       "      <td>0.0</td>\n",
       "      <td>1.0</td>\n",
       "    </tr>\n",
       "    <tr>\n",
       "      <th>2021-01-12 00:00:00+00:00</th>\n",
       "      <td>128.80</td>\n",
       "      <td>129.6900</td>\n",
       "      <td>126.860</td>\n",
       "      <td>128.50</td>\n",
       "      <td>90440255</td>\n",
       "      <td>128.80</td>\n",
       "      <td>129.6900</td>\n",
       "      <td>126.860</td>\n",
       "      <td>128.50</td>\n",
       "      <td>90440255</td>\n",
       "      <td>0.0</td>\n",
       "      <td>1.0</td>\n",
       "    </tr>\n",
       "  </tbody>\n",
       "</table>\n",
       "</div>"
      ],
      "text/plain": [
       "                                   close      high      low    open  \\\n",
       "symbol date                                                           \n",
       "AAPL   2021-01-06 00:00:00+00:00  126.60  131.0499  126.382  127.72   \n",
       "       2021-01-07 00:00:00+00:00  130.92  131.6300  127.860  128.36   \n",
       "       2021-01-08 00:00:00+00:00  132.05  132.6300  130.230  132.43   \n",
       "       2021-01-11 00:00:00+00:00  128.98  130.1700  128.500  129.19   \n",
       "       2021-01-12 00:00:00+00:00  128.80  129.6900  126.860  128.50   \n",
       "\n",
       "                                     volume  adjClose   adjHigh   adjLow  \\\n",
       "symbol date                                                                \n",
       "AAPL   2021-01-06 00:00:00+00:00  155087970    126.60  131.0499  126.382   \n",
       "       2021-01-07 00:00:00+00:00  109578157    130.92  131.6300  127.860   \n",
       "       2021-01-08 00:00:00+00:00  105158245    132.05  132.6300  130.230   \n",
       "       2021-01-11 00:00:00+00:00  100620880    128.98  130.1700  128.500   \n",
       "       2021-01-12 00:00:00+00:00   90440255    128.80  129.6900  126.860   \n",
       "\n",
       "                                  adjOpen  adjVolume  divCash  splitFactor  \n",
       "symbol date                                                                 \n",
       "AAPL   2021-01-06 00:00:00+00:00   127.72  155087970      0.0          1.0  \n",
       "       2021-01-07 00:00:00+00:00   128.36  109578157      0.0          1.0  \n",
       "       2021-01-08 00:00:00+00:00   132.43  105158245      0.0          1.0  \n",
       "       2021-01-11 00:00:00+00:00   129.19  100620880      0.0          1.0  \n",
       "       2021-01-12 00:00:00+00:00   128.50   90440255      0.0          1.0  "
      ]
     },
     "execution_count": 10,
     "metadata": {},
     "output_type": "execute_result"
    }
   ],
   "source": [
    "df.tail()"
   ]
  },
  {
   "cell_type": "code",
   "execution_count": 11,
   "metadata": {},
   "outputs": [
    {
     "data": {
      "text/html": [
       "<div>\n",
       "<style scoped>\n",
       "    .dataframe tbody tr th:only-of-type {\n",
       "        vertical-align: middle;\n",
       "    }\n",
       "\n",
       "    .dataframe tbody tr th {\n",
       "        vertical-align: top;\n",
       "    }\n",
       "\n",
       "    .dataframe thead th {\n",
       "        text-align: right;\n",
       "    }\n",
       "</style>\n",
       "<table border=\"1\" class=\"dataframe\">\n",
       "  <thead>\n",
       "    <tr style=\"text-align: right;\">\n",
       "      <th></th>\n",
       "      <th></th>\n",
       "      <th>close</th>\n",
       "      <th>high</th>\n",
       "      <th>low</th>\n",
       "      <th>open</th>\n",
       "      <th>volume</th>\n",
       "      <th>adjClose</th>\n",
       "      <th>adjHigh</th>\n",
       "      <th>adjLow</th>\n",
       "      <th>adjOpen</th>\n",
       "      <th>adjVolume</th>\n",
       "      <th>divCash</th>\n",
       "      <th>splitFactor</th>\n",
       "    </tr>\n",
       "    <tr>\n",
       "      <th>symbol</th>\n",
       "      <th>date</th>\n",
       "      <th></th>\n",
       "      <th></th>\n",
       "      <th></th>\n",
       "      <th></th>\n",
       "      <th></th>\n",
       "      <th></th>\n",
       "      <th></th>\n",
       "      <th></th>\n",
       "      <th></th>\n",
       "      <th></th>\n",
       "      <th></th>\n",
       "      <th></th>\n",
       "    </tr>\n",
       "  </thead>\n",
       "  <tbody>\n",
       "    <tr>\n",
       "      <th rowspan=\"5\" valign=\"top\">AAPL</th>\n",
       "      <th>2016-01-15 00:00:00+00:00</th>\n",
       "      <td>97.13</td>\n",
       "      <td>97.7100</td>\n",
       "      <td>95.36</td>\n",
       "      <td>96.20</td>\n",
       "      <td>79833891</td>\n",
       "      <td>22.494199</td>\n",
       "      <td>22.628520</td>\n",
       "      <td>22.084287</td>\n",
       "      <td>22.278822</td>\n",
       "      <td>319335564</td>\n",
       "      <td>0.0</td>\n",
       "      <td>1.0</td>\n",
       "    </tr>\n",
       "    <tr>\n",
       "      <th>2016-01-19 00:00:00+00:00</th>\n",
       "      <td>96.66</td>\n",
       "      <td>98.6500</td>\n",
       "      <td>95.50</td>\n",
       "      <td>98.41</td>\n",
       "      <td>53087747</td>\n",
       "      <td>22.385352</td>\n",
       "      <td>22.846214</td>\n",
       "      <td>22.116710</td>\n",
       "      <td>22.790632</td>\n",
       "      <td>212350988</td>\n",
       "      <td>0.0</td>\n",
       "      <td>1.0</td>\n",
       "    </tr>\n",
       "    <tr>\n",
       "      <th>2016-01-20 00:00:00+00:00</th>\n",
       "      <td>96.79</td>\n",
       "      <td>98.1897</td>\n",
       "      <td>93.42</td>\n",
       "      <td>95.10</td>\n",
       "      <td>72334416</td>\n",
       "      <td>22.415459</td>\n",
       "      <td>22.739613</td>\n",
       "      <td>21.635005</td>\n",
       "      <td>22.024074</td>\n",
       "      <td>289337664</td>\n",
       "      <td>0.0</td>\n",
       "      <td>1.0</td>\n",
       "    </tr>\n",
       "    <tr>\n",
       "      <th>2016-01-21 00:00:00+00:00</th>\n",
       "      <td>96.30</td>\n",
       "      <td>97.8800</td>\n",
       "      <td>94.94</td>\n",
       "      <td>97.06</td>\n",
       "      <td>52161463</td>\n",
       "      <td>22.301980</td>\n",
       "      <td>22.667890</td>\n",
       "      <td>21.987020</td>\n",
       "      <td>22.477988</td>\n",
       "      <td>208645852</td>\n",
       "      <td>0.0</td>\n",
       "      <td>1.0</td>\n",
       "    </tr>\n",
       "    <tr>\n",
       "      <th>2016-01-22 00:00:00+00:00</th>\n",
       "      <td>101.42</td>\n",
       "      <td>101.4600</td>\n",
       "      <td>98.37</td>\n",
       "      <td>98.63</td>\n",
       "      <td>65800467</td>\n",
       "      <td>23.487714</td>\n",
       "      <td>23.496977</td>\n",
       "      <td>22.781369</td>\n",
       "      <td>22.841582</td>\n",
       "      <td>263201868</td>\n",
       "      <td>0.0</td>\n",
       "      <td>1.0</td>\n",
       "    </tr>\n",
       "  </tbody>\n",
       "</table>\n",
       "</div>"
      ],
      "text/plain": [
       "                                   close      high    low   open    volume  \\\n",
       "symbol date                                                                  \n",
       "AAPL   2016-01-15 00:00:00+00:00   97.13   97.7100  95.36  96.20  79833891   \n",
       "       2016-01-19 00:00:00+00:00   96.66   98.6500  95.50  98.41  53087747   \n",
       "       2016-01-20 00:00:00+00:00   96.79   98.1897  93.42  95.10  72334416   \n",
       "       2016-01-21 00:00:00+00:00   96.30   97.8800  94.94  97.06  52161463   \n",
       "       2016-01-22 00:00:00+00:00  101.42  101.4600  98.37  98.63  65800467   \n",
       "\n",
       "                                   adjClose    adjHigh     adjLow    adjOpen  \\\n",
       "symbol date                                                                    \n",
       "AAPL   2016-01-15 00:00:00+00:00  22.494199  22.628520  22.084287  22.278822   \n",
       "       2016-01-19 00:00:00+00:00  22.385352  22.846214  22.116710  22.790632   \n",
       "       2016-01-20 00:00:00+00:00  22.415459  22.739613  21.635005  22.024074   \n",
       "       2016-01-21 00:00:00+00:00  22.301980  22.667890  21.987020  22.477988   \n",
       "       2016-01-22 00:00:00+00:00  23.487714  23.496977  22.781369  22.841582   \n",
       "\n",
       "                                  adjVolume  divCash  splitFactor  \n",
       "symbol date                                                        \n",
       "AAPL   2016-01-15 00:00:00+00:00  319335564      0.0          1.0  \n",
       "       2016-01-19 00:00:00+00:00  212350988      0.0          1.0  \n",
       "       2016-01-20 00:00:00+00:00  289337664      0.0          1.0  \n",
       "       2016-01-21 00:00:00+00:00  208645852      0.0          1.0  \n",
       "       2016-01-22 00:00:00+00:00  263201868      0.0          1.0  "
      ]
     },
     "execution_count": 11,
     "metadata": {},
     "output_type": "execute_result"
    }
   ],
   "source": [
    "df.head()"
   ]
  },
  {
   "cell_type": "code",
   "execution_count": 12,
   "metadata": {},
   "outputs": [],
   "source": [
    "# from (2016-01-15 00:00:00+00:0) to (2021-01-12 00:00:00+00:00) ------> 5 years."
   ]
  },
  {
   "cell_type": "code",
   "execution_count": 13,
   "metadata": {},
   "outputs": [],
   "source": [
    "import numpy as np\n",
    "from sklearn.preprocessing import MinMaxScaler\n",
    "scaler = MinMaxScaler(feature_range=(0, 1))\n",
    "df1 = scaler.fit_transform(np.array(df1).reshape(-1,1))\n"
   ]
  },
  {
   "cell_type": "code",
   "execution_count": 14,
   "metadata": {},
   "outputs": [
    {
     "data": {
      "text/plain": [
       "array([[0.01633193],\n",
       "       [0.01520144],\n",
       "       [0.01551413],\n",
       "       ...,\n",
       "       [0.10032471],\n",
       "       [0.09294047],\n",
       "       [0.09250752]])"
      ]
     },
     "execution_count": 14,
     "metadata": {},
     "output_type": "execute_result"
    }
   ],
   "source": [
    "df1   # values between zero and 1."
   ]
  },
  {
   "cell_type": "code",
   "execution_count": 15,
   "metadata": {},
   "outputs": [],
   "source": [
    "train_size = int(len(df1)*0.65)\n",
    "test_size = len(df1) - train_size\n",
    "train_data, test_data = df1[0:train_size,:], df1[train_size:,:1]"
   ]
  },
  {
   "cell_type": "code",
   "execution_count": 16,
   "metadata": {},
   "outputs": [
    {
     "data": {
      "text/plain": [
       "817"
      ]
     },
     "execution_count": 16,
     "metadata": {},
     "output_type": "execute_result"
    }
   ],
   "source": [
    "\n",
    "len(train_data)"
   ]
  },
  {
   "cell_type": "code",
   "execution_count": 17,
   "metadata": {},
   "outputs": [
    {
     "data": {
      "text/plain": [
       "440"
      ]
     },
     "execution_count": 17,
     "metadata": {},
     "output_type": "execute_result"
    }
   ],
   "source": [
    "len(test_data)"
   ]
  },
  {
   "cell_type": "code",
   "execution_count": 18,
   "metadata": {},
   "outputs": [],
   "source": [
    "def create_dataset(dataset, time_step=1):\n",
    "\tdataX, dataY = [], []\n",
    "\tfor i in range(len(dataset)-time_step-1):\n",
    "\t\tdataX.append(dataset[i:(i+time_step), 0])\n",
    "\t\tdataY.append(dataset[i + time_step, 0])\n",
    "\treturn np.array(dataX), np.array(dataY)"
   ]
  },
  {
   "cell_type": "code",
   "execution_count": 19,
   "metadata": {},
   "outputs": [],
   "source": [
    "time_step = 100\n",
    "X_train, y_train = create_dataset(train_data, time_step)\n",
    "X_test, y_test = create_dataset(test_data, time_step)"
   ]
  },
  {
   "cell_type": "code",
   "execution_count": 20,
   "metadata": {},
   "outputs": [
    {
     "data": {
      "text/plain": [
       "(716, 100)"
      ]
     },
     "execution_count": 20,
     "metadata": {},
     "output_type": "execute_result"
    }
   ],
   "source": [
    "X_train.shape"
   ]
  },
  {
   "cell_type": "code",
   "execution_count": 21,
   "metadata": {},
   "outputs": [
    {
     "data": {
      "text/plain": [
       "(339, 100)"
      ]
     },
     "execution_count": 21,
     "metadata": {},
     "output_type": "execute_result"
    }
   ],
   "source": [
    "X_test.shape"
   ]
  },
  {
   "cell_type": "code",
   "execution_count": 22,
   "metadata": {},
   "outputs": [
    {
     "data": {
      "text/plain": [
       "(339,)"
      ]
     },
     "execution_count": 22,
     "metadata": {},
     "output_type": "execute_result"
    }
   ],
   "source": [
    "y_test.shape"
   ]
  },
  {
   "cell_type": "markdown",
   "metadata": {},
   "source": [
    "## making STACKED LSTM model"
   ]
  },
  {
   "cell_type": "code",
   "execution_count": 23,
   "metadata": {},
   "outputs": [],
   "source": [
    "X_train  = X_train.reshape(X_train.shape[0],X_train.shape[1], 1)\n",
    "X_test = X_test.reshape(X_test.shape[0], X_test.shape[1], 1)"
   ]
  },
  {
   "cell_type": "code",
   "execution_count": 24,
   "metadata": {},
   "outputs": [],
   "source": [
    "from tensorflow.keras.models import Sequential\n",
    "from tensorflow.keras.layers import LSTM, Dense "
   ]
  },
  {
   "cell_type": "code",
   "execution_count": 25,
   "metadata": {},
   "outputs": [],
   "source": [
    "model = Sequential()\n",
    "model.add(LSTM(50, return_sequences=True, input_shape=(100,1)))\n",
    "model.add(LSTM(50, return_sequences=True))\n",
    "model.add(LSTM(50))\n",
    "model.add(Dense(1))\n",
    "model.compile(loss='mean_squared_error', optimizer='adam')"
   ]
  },
  {
   "cell_type": "code",
   "execution_count": 26,
   "metadata": {},
   "outputs": [
    {
     "name": "stdout",
     "output_type": "stream",
     "text": [
      "Model: \"sequential\"\n",
      "_________________________________________________________________\n",
      "Layer (type)                 Output Shape              Param #   \n",
      "=================================================================\n",
      "lstm (LSTM)                  (None, 100, 50)           10400     \n",
      "_________________________________________________________________\n",
      "lstm_1 (LSTM)                (None, 100, 50)           20200     \n",
      "_________________________________________________________________\n",
      "lstm_2 (LSTM)                (None, 50)                20200     \n",
      "_________________________________________________________________\n",
      "dense (Dense)                (None, 1)                 51        \n",
      "=================================================================\n",
      "Total params: 50,851\n",
      "Trainable params: 50,851\n",
      "Non-trainable params: 0\n",
      "_________________________________________________________________\n"
     ]
    }
   ],
   "source": [
    "model.summary()"
   ]
  },
  {
   "cell_type": "code",
   "execution_count": 27,
   "metadata": {},
   "outputs": [
    {
     "name": "stdout",
     "output_type": "stream",
     "text": [
      "Epoch 1/100\n",
      "12/12 [==============================] - 2s 207ms/step - loss: 0.0072 - val_loss: 0.0534\n",
      "Epoch 2/100\n",
      "12/12 [==============================] - 1s 110ms/step - loss: 0.0017 - val_loss: 0.0286\n",
      "Epoch 3/100\n",
      "12/12 [==============================] - 1s 104ms/step - loss: 7.7690e-04 - val_loss: 0.0204\n",
      "Epoch 4/100\n",
      "12/12 [==============================] - 1s 105ms/step - loss: 4.6221e-04 - val_loss: 0.0204\n",
      "Epoch 5/100\n",
      "12/12 [==============================] - 1s 105ms/step - loss: 4.0536e-04 - val_loss: 0.0193\n",
      "Epoch 6/100\n",
      "12/12 [==============================] - 1s 104ms/step - loss: 3.6875e-04 - val_loss: 0.0188\n",
      "Epoch 7/100\n",
      "12/12 [==============================] - 1s 105ms/step - loss: 3.4266e-04 - val_loss: 0.0183\n",
      "Epoch 8/100\n",
      "12/12 [==============================] - 1s 115ms/step - loss: 3.6397e-04 - val_loss: 0.0179\n",
      "Epoch 9/100\n",
      "12/12 [==============================] - 1s 122ms/step - loss: 3.6255e-04 - val_loss: 0.0175\n",
      "Epoch 10/100\n",
      "12/12 [==============================] - 1s 123ms/step - loss: 3.3596e-04 - val_loss: 0.0172\n",
      "Epoch 11/100\n",
      "12/12 [==============================] - 1s 124ms/step - loss: 3.1010e-04 - val_loss: 0.0169\n",
      "Epoch 12/100\n",
      "12/12 [==============================] - 1s 122ms/step - loss: 3.2243e-04 - val_loss: 0.0163\n",
      "Epoch 13/100\n",
      "12/12 [==============================] - 1s 122ms/step - loss: 3.1307e-04 - val_loss: 0.0159\n",
      "Epoch 14/100\n",
      "12/12 [==============================] - 1s 122ms/step - loss: 2.7548e-04 - val_loss: 0.0156\n",
      "Epoch 15/100\n",
      "12/12 [==============================] - 1s 124ms/step - loss: 2.6060e-04 - val_loss: 0.0152\n",
      "Epoch 16/100\n",
      "12/12 [==============================] - 1s 123ms/step - loss: 2.5202e-04 - val_loss: 0.0150\n",
      "Epoch 17/100\n",
      "12/12 [==============================] - 1s 122ms/step - loss: 2.3562e-04 - val_loss: 0.0145\n",
      "Epoch 18/100\n",
      "12/12 [==============================] - 1s 122ms/step - loss: 2.3363e-04 - val_loss: 0.0142\n",
      "Epoch 19/100\n",
      "12/12 [==============================] - 1s 122ms/step - loss: 2.2826e-04 - val_loss: 0.0136\n",
      "Epoch 20/100\n",
      "12/12 [==============================] - 1s 122ms/step - loss: 2.2246e-04 - val_loss: 0.0145\n",
      "Epoch 21/100\n",
      "12/12 [==============================] - 1s 124ms/step - loss: 2.2937e-04 - val_loss: 0.0132\n",
      "Epoch 22/100\n",
      "12/12 [==============================] - 2s 126ms/step - loss: 2.1205e-04 - val_loss: 0.0135\n",
      "Epoch 23/100\n",
      "12/12 [==============================] - 1s 122ms/step - loss: 1.9429e-04 - val_loss: 0.0133-0\n",
      "Epoch 24/100\n",
      "12/12 [==============================] - 1s 122ms/step - loss: 1.9122e-04 - val_loss: 0.0127\n",
      "Epoch 25/100\n",
      "12/12 [==============================] - 1s 120ms/step - loss: 1.9675e-04 - val_loss: 0.0133\n",
      "Epoch 26/100\n",
      "12/12 [==============================] - 1s 122ms/step - loss: 1.9277e-04 - val_loss: 0.0124\n",
      "Epoch 27/100\n",
      "12/12 [==============================] - 1s 121ms/step - loss: 2.0348e-04 - val_loss: 0.0130\n",
      "Epoch 28/100\n",
      "12/12 [==============================] - 1s 122ms/step - loss: 1.8453e-04 - val_loss: 0.0135\n",
      "Epoch 29/100\n",
      "12/12 [==============================] - 1s 121ms/step - loss: 1.9465e-04 - val_loss: 0.0122\n",
      "Epoch 30/100\n",
      "12/12 [==============================] - 1s 122ms/step - loss: 1.8429e-04 - val_loss: 0.0129\n",
      "Epoch 31/100\n",
      "12/12 [==============================] - 1s 121ms/step - loss: 1.9612e-04 - val_loss: 0.0120\n",
      "Epoch 32/100\n",
      "12/12 [==============================] - 1s 122ms/step - loss: 1.9299e-04 - val_loss: 0.0120\n",
      "Epoch 33/100\n",
      "12/12 [==============================] - 2s 125ms/step - loss: 1.7872e-04 - val_loss: 0.0129\n",
      "Epoch 34/100\n",
      "12/12 [==============================] - 1s 123ms/step - loss: 1.8613e-04 - val_loss: 0.0117\n",
      "Epoch 35/100\n",
      "12/12 [==============================] - 2s 127ms/step - loss: 1.7928e-04 - val_loss: 0.0120\n",
      "Epoch 36/100\n",
      "12/12 [==============================] - 1s 125ms/step - loss: 1.7067e-04 - val_loss: 0.0120\n",
      "Epoch 37/100\n",
      "12/12 [==============================] - 2s 129ms/step - loss: 1.6692e-04 - val_loss: 0.0115\n",
      "Epoch 38/100\n",
      "12/12 [==============================] - 2s 125ms/step - loss: 1.9285e-04 - val_loss: 0.0114\n",
      "Epoch 39/100\n",
      "12/12 [==============================] - 2s 126ms/step - loss: 1.8918e-04 - val_loss: 0.0139\n",
      "Epoch 40/100\n",
      "12/12 [==============================] - 2s 147ms/step - loss: 2.1672e-04 - val_loss: 0.0106\n",
      "Epoch 41/100\n",
      "12/12 [==============================] - 2s 130ms/step - loss: 1.6833e-04 - val_loss: 0.0111\n",
      "Epoch 42/100\n",
      "12/12 [==============================] - 2s 163ms/step - loss: 1.5851e-04 - val_loss: 0.0106\n",
      "Epoch 43/100\n",
      "12/12 [==============================] - 2s 154ms/step - loss: 1.7076e-04 - val_loss: 0.0115\n",
      "Epoch 44/100\n",
      "12/12 [==============================] - 3s 213ms/step - loss: 1.6388e-04 - val_loss: 0.0117\n",
      "Epoch 45/100\n",
      "12/12 [==============================] - 2s 140ms/step - loss: 1.5506e-04 - val_loss: 0.0126\n",
      "Epoch 46/100\n",
      "12/12 [==============================] - 2s 129ms/step - loss: 1.7568e-04 - val_loss: 0.0105\n",
      "Epoch 47/100\n",
      "12/12 [==============================] - 2s 130ms/step - loss: 1.8032e-04 - val_loss: 0.0121\n",
      "Epoch 48/100\n",
      "12/12 [==============================] - 2s 127ms/step - loss: 1.8131e-04 - val_loss: 0.0118\n",
      "Epoch 49/100\n",
      "12/12 [==============================] - 2s 127ms/step - loss: 1.9994e-04 - val_loss: 0.0103\n",
      "Epoch 50/100\n",
      "12/12 [==============================] - 2s 129ms/step - loss: 1.6576e-04 - val_loss: 0.0127\n",
      "Epoch 51/100\n",
      "12/12 [==============================] - 2s 136ms/step - loss: 1.7751e-04 - val_loss: 0.0103\n",
      "Epoch 52/100\n",
      "12/12 [==============================] - 2s 127ms/step - loss: 1.6462e-04 - val_loss: 0.0120\n",
      "Epoch 53/100\n",
      "12/12 [==============================] - 2s 135ms/step - loss: 1.4937e-04 - val_loss: 0.0112\n",
      "Epoch 54/100\n",
      "12/12 [==============================] - 2s 146ms/step - loss: 1.5109e-04 - val_loss: 0.0111\n",
      "Epoch 55/100\n",
      "12/12 [==============================] - 2s 145ms/step - loss: 1.5440e-04 - val_loss: 0.0115\n",
      "Epoch 56/100\n",
      "12/12 [==============================] - 2s 146ms/step - loss: 1.4953e-04 - val_loss: 0.0111\n",
      "Epoch 57/100\n",
      "12/12 [==============================] - 2s 149ms/step - loss: 1.4570e-04 - val_loss: 0.0133\n",
      "Epoch 58/100\n",
      "12/12 [==============================] - 2s 158ms/step - loss: 1.5865e-04 - val_loss: 0.0107\n",
      "Epoch 59/100\n",
      "12/12 [==============================] - 2s 139ms/step - loss: 1.6615e-04 - val_loss: 0.0150\n",
      "Epoch 60/100\n",
      "12/12 [==============================] - 2s 127ms/step - loss: 2.2139e-04 - val_loss: 0.0099\n",
      "Epoch 61/100\n",
      "12/12 [==============================] - 1s 121ms/step - loss: 1.7257e-04 - val_loss: 0.0125\n",
      "Epoch 62/100\n",
      "12/12 [==============================] - 1s 121ms/step - loss: 1.4193e-04 - val_loss: 0.0128\n",
      "Epoch 63/100\n",
      "12/12 [==============================] - 1s 123ms/step - loss: 1.3625e-04 - val_loss: 0.0133\n",
      "Epoch 64/100\n",
      "12/12 [==============================] - 2s 127ms/step - loss: 1.4563e-04 - val_loss: 0.0128\n",
      "Epoch 65/100\n",
      "12/12 [==============================] - 2s 129ms/step - loss: 1.4391e-04 - val_loss: 0.0136\n",
      "Epoch 66/100\n",
      "12/12 [==============================] - 1s 123ms/step - loss: 1.3614e-04 - val_loss: 0.0118\n",
      "Epoch 67/100\n",
      "12/12 [==============================] - 2s 129ms/step - loss: 1.4695e-04 - val_loss: 0.0155\n",
      "Epoch 68/100\n",
      "12/12 [==============================] - 2s 133ms/step - loss: 1.3505e-04 - val_loss: 0.0155\n",
      "Epoch 69/100\n",
      "12/12 [==============================] - 1s 124ms/step - loss: 1.5526e-04 - val_loss: 0.0128\n",
      "Epoch 70/100\n",
      "12/12 [==============================] - 1s 123ms/step - loss: 1.3195e-04 - val_loss: 0.0144\n",
      "Epoch 71/100\n",
      "12/12 [==============================] - 1s 122ms/step - loss: 1.2954e-04 - val_loss: 0.0143\n",
      "Epoch 72/100\n",
      "12/12 [==============================] - 1s 125ms/step - loss: 1.2706e-04 - val_loss: 0.0163\n",
      "Epoch 73/100\n",
      "12/12 [==============================] - 2s 128ms/step - loss: 1.2936e-04 - val_loss: 0.0137\n",
      "Epoch 74/100\n",
      "12/12 [==============================] - 2s 126ms/step - loss: 1.3235e-04 - val_loss: 0.0126\n",
      "Epoch 75/100\n",
      "12/12 [==============================] - 2s 128ms/step - loss: 1.3942e-04 - val_loss: 0.0124\n",
      "Epoch 76/100\n",
      "12/12 [==============================] - 1s 124ms/step - loss: 1.5167e-04 - val_loss: 0.0135\n",
      "Epoch 77/100\n",
      "12/12 [==============================] - 1s 123ms/step - loss: 1.2944e-04 - val_loss: 0.0153\n",
      "Epoch 78/100\n"
     ]
    },
    {
     "name": "stdout",
     "output_type": "stream",
     "text": [
      "12/12 [==============================] - 2s 126ms/step - loss: 1.3621e-04 - val_loss: 0.0182\n",
      "Epoch 79/100\n",
      "12/12 [==============================] - 2s 126ms/step - loss: 1.2022e-04 - val_loss: 0.0151\n",
      "Epoch 80/100\n",
      "12/12 [==============================] - 1s 125ms/step - loss: 1.2320e-04 - val_loss: 0.0153\n",
      "Epoch 81/100\n",
      "12/12 [==============================] - 2s 127ms/step - loss: 1.1765e-04 - val_loss: 0.0117\n",
      "Epoch 82/100\n",
      "12/12 [==============================] - 2s 127ms/step - loss: 1.2659e-04 - val_loss: 0.0189\n",
      "Epoch 83/100\n",
      "12/12 [==============================] - 2s 126ms/step - loss: 1.3183e-04 - val_loss: 0.0166\n",
      "Epoch 84/100\n",
      "12/12 [==============================] - 1s 124ms/step - loss: 1.2254e-04 - val_loss: 0.0198\n",
      "Epoch 85/100\n",
      "12/12 [==============================] - 1s 123ms/step - loss: 1.1730e-04 - val_loss: 0.0145\n",
      "Epoch 86/100\n",
      "12/12 [==============================] - 1s 122ms/step - loss: 1.4521e-04 - val_loss: 0.0158\n",
      "Epoch 87/100\n",
      "12/12 [==============================] - 1s 122ms/step - loss: 1.2167e-04 - val_loss: 0.0095\n",
      "Epoch 88/100\n",
      "12/12 [==============================] - 1s 125ms/step - loss: 1.3106e-04 - val_loss: 0.0075\n",
      "Epoch 89/100\n",
      "12/12 [==============================] - 1s 124ms/step - loss: 1.4152e-04 - val_loss: 0.0096\n",
      "Epoch 90/100\n",
      "12/12 [==============================] - 2s 126ms/step - loss: 1.2657e-04 - val_loss: 0.0109\n",
      "Epoch 91/100\n",
      "12/12 [==============================] - 1s 125ms/step - loss: 1.1827e-04 - val_loss: 0.0104\n",
      "Epoch 92/100\n",
      "12/12 [==============================] - 1s 124ms/step - loss: 1.1360e-04 - val_loss: 0.0105\n",
      "Epoch 93/100\n",
      "12/12 [==============================] - 1s 123ms/step - loss: 1.1903e-04 - val_loss: 0.0084\n",
      "Epoch 94/100\n",
      "12/12 [==============================] - 1s 122ms/step - loss: 1.2101e-04 - val_loss: 0.0093\n",
      "Epoch 95/100\n",
      "12/12 [==============================] - 1s 124ms/step - loss: 1.2576e-04 - val_loss: 0.0090\n",
      "Epoch 96/100\n",
      "12/12 [==============================] - 1s 124ms/step - loss: 1.1506e-04 - val_loss: 0.0092\n",
      "Epoch 97/100\n",
      "12/12 [==============================] - 1s 124ms/step - loss: 1.1406e-04 - val_loss: 0.0085\n",
      "Epoch 98/100\n",
      "12/12 [==============================] - 2s 127ms/step - loss: 1.1457e-04 - val_loss: 0.0078\n",
      "Epoch 99/100\n",
      "12/12 [==============================] - 1s 125ms/step - loss: 1.1863e-04 - val_loss: 0.0078\n",
      "Epoch 100/100\n",
      "12/12 [==============================] - 2s 130ms/step - loss: 1.0395e-04 - val_loss: 0.0086\n"
     ]
    },
    {
     "data": {
      "text/plain": [
       "<tensorflow.python.keras.callbacks.History at 0x24654ac7490>"
      ]
     },
     "execution_count": 27,
     "metadata": {},
     "output_type": "execute_result"
    }
   ],
   "source": [
    "model.fit(X_train,y_train, validation_data = (X_test,y_test), verbose=1, epochs=100, batch_size=64 )"
   ]
  },
  {
   "cell_type": "code",
   "execution_count": 28,
   "metadata": {},
   "outputs": [],
   "source": [
    "predict_train = model.predict(X_train)\n",
    "predict_test = model.predict(X_test)"
   ]
  },
  {
   "cell_type": "code",
   "execution_count": 29,
   "metadata": {},
   "outputs": [],
   "source": [
    "predict_train = scaler.inverse_transform(predict_train)\n",
    "predict_test = scaler.inverse_transform(predict_test)"
   ]
  },
  {
   "cell_type": "code",
   "execution_count": 30,
   "metadata": {},
   "outputs": [],
   "source": [
    "import math\n",
    "from sklearn.metrics import mean_squared_error\n",
    "rms_err_val_train = math.sqrt(mean_squared_error(y_train,predict_train))"
   ]
  },
  {
   "cell_type": "code",
   "execution_count": 31,
   "metadata": {},
   "outputs": [
    {
     "data": {
      "text/plain": [
       "160.91936103267392"
      ]
     },
     "execution_count": 31,
     "metadata": {},
     "output_type": "execute_result"
    }
   ],
   "source": [
    "rms_err_val_train"
   ]
  },
  {
   "cell_type": "code",
   "execution_count": 32,
   "metadata": {},
   "outputs": [],
   "source": [
    "rms_err_val_test = math.sqrt(mean_squared_error(y_test,predict_test))"
   ]
  },
  {
   "cell_type": "code",
   "execution_count": 33,
   "metadata": {},
   "outputs": [
    {
     "data": {
      "text/plain": [
       "257.85762274089933"
      ]
     },
     "execution_count": 33,
     "metadata": {},
     "output_type": "execute_result"
    }
   ],
   "source": [
    "rms_err_val_test"
   ]
  },
  {
   "cell_type": "markdown",
   "metadata": {},
   "source": [
    "## plotting"
   ]
  },
  {
   "cell_type": "code",
   "execution_count": 34,
   "metadata": {},
   "outputs": [
    {
     "data": {
      "image/png": "[encoded data removed]",
      "text/plain": [
       "<Figure size 432x288 with 1 Axes>"
      ]
     },
     "metadata": {
      "needs_background": "light"
     },
     "output_type": "display_data"
    }
   ],
   "source": [
    "look_back =100\n",
    "\n",
    "#len(predict_train) = 716\n",
    "train_df_plot = np.empty_like(df1)\n",
    "train_df_plot[:,:]  = np.nan\n",
    "train_df_plot[look_back:len(predict_train)+look_back, :] = predict_train\n",
    "\n",
    "#len(predict_test) = 339\n",
    "test_plot = np.empty_like(df1)\n",
    "test_plot[:,:] = np.nan\n",
    "test_plot[len(predict_train)+(look_back*2)+1:len(df1)-1, :] = predict_test\n",
    "\n",
    "plt.plot(scaler.inverse_transform(df1))\n",
    "plt.plot(train_df_plot)\n",
    "plt.plot(test_plot)\n",
    "plt.show()"
   ]
  },
  {
   "cell_type": "code",
   "execution_count": 35,
   "metadata": {},
   "outputs": [
    {
     "data": {
      "text/plain": [
       "[<matplotlib.lines.Line2D at 0x24663534070>]"
      ]
     },
     "execution_count": 35,
     "metadata": {},
     "output_type": "execute_result"
    },
    {
     "data": {
      "image/png": "[encoded data removed]",
      "text/plain": [
       "<Figure size 720x720 with 2 Axes>"
      ]
     },
     "metadata": {
      "needs_background": "light"
     },
     "output_type": "display_data"
    }
   ],
   "source": [
    "look_back =100\n",
    "\n",
    "#len(predict_train) = 716\n",
    "train_df_plot = np.empty_like(df1)\n",
    "train_df_plot[:,:]  = np.nan\n",
    "train_df_plot[look_back:len(predict_train)+look_back, :] = predict_train\n",
    "\n",
    "#len(predict_test) = 339\n",
    "test_plot = np.empty_like(df1)\n",
    "test_plot[:,:] = np.nan\n",
    "test_plot[len(predict_train)+(look_back*2)+1:len(df1)-1, :] = predict_test\n",
    "\n",
    "fig = plt.figure(figsize = (10,10))\n",
    "ax = fig.add_subplot(211, title = \"train data with original df1 data of closing index\")\n",
    "ay = fig.add_subplot(212, title = \"test data\")\n",
    "ax.plot(scaler.inverse_transform(df1))\n",
    "ax.plot(train_df_plot)\n",
    "ay.plot(test_plot)\n",
    "# plt.show()"
   ]
  },
  {
   "cell_type": "markdown",
   "metadata": {},
   "source": [
    "## Predicting for the next 30 days"
   ]
  },
  {
   "cell_type": "code",
   "execution_count": 36,
   "metadata": {},
   "outputs": [
    {
     "data": {
      "text/plain": [
       "array([[0.26196031],\n",
       "       [0.27129284],\n",
       "       [0.27304871],\n",
       "       [0.27466025],\n",
       "       [0.28175586],\n",
       "       [0.28098617],\n",
       "       [0.27646422],\n",
       "       [0.27410704],\n",
       "       [0.27485268],\n",
       "       [0.26537583],\n",
       "       [0.28906795],\n",
       "       [0.2857727 ],\n",
       "       [0.29202646],\n",
       "       [0.28416115],\n",
       "       [0.27064342],\n",
       "       [0.27073963],\n",
       "       [0.26549609],\n",
       "       [0.25698136],\n",
       "       [0.22941672],\n",
       "       [0.23648827],\n",
       "       [0.24192423],\n",
       "       [0.23990379],\n",
       "       [0.23730607],\n",
       "       [0.2230908 ],\n",
       "       [0.23153337],\n",
       "       [0.22234516],\n",
       "       [0.21484065],\n",
       "       [0.213181  ],\n",
       "       [0.21140108],\n",
       "       [0.20935658],\n",
       "       [0.21156945],\n",
       "       [0.20380036],\n",
       "       [0.19954299],\n",
       "       [0.21479254],\n",
       "       [0.22176789],\n",
       "       [0.22821407],\n",
       "       [0.24007216],\n",
       "       [0.24591702],\n",
       "       [0.25128082],\n",
       "       [0.24978954],\n",
       "       [0.24969333],\n",
       "       [0.24630186],\n",
       "       [0.24906795],\n",
       "       [0.26003608],\n",
       "       [0.25864101],\n",
       "       [0.26246542],\n",
       "       [0.26082983],\n",
       "       [0.26034877],\n",
       "       [0.25310884],\n",
       "       [0.26328322],\n",
       "       [0.26313891],\n",
       "       [0.25876127],\n",
       "       [0.26749248],\n",
       "       [0.27033073],\n",
       "       [0.27437162],\n",
       "       [0.27393867],\n",
       "       [0.26381239],\n",
       "       [0.26674684],\n",
       "       [0.27153337],\n",
       "       [0.26797354],\n",
       "       [0.27170174],\n",
       "       [0.27629585],\n",
       "       [0.27458809],\n",
       "       [0.27182201],\n",
       "       [0.27737823],\n",
       "       [0.26999399],\n",
       "       [0.28113049],\n",
       "       [0.28502706],\n",
       "       [0.28461816],\n",
       "       [0.28064943],\n",
       "       [0.28238124],\n",
       "       [0.2870475 ],\n",
       "       [0.28488274],\n",
       "       [0.29512928],\n",
       "       [0.28404089],\n",
       "       [0.27343355],\n",
       "       [0.24774504],\n",
       "       [0.25654841],\n",
       "       [0.2614552 ],\n",
       "       [0.27201443],\n",
       "       [0.26614552],\n",
       "       [0.26491882],\n",
       "       [0.28533975],\n",
       "       [0.27037883],\n",
       "       [0.26794949],\n",
       "       [0.27939868],\n",
       "       [0.28865905],\n",
       "       [0.2886831 ],\n",
       "       [0.29416717],\n",
       "       [0.29373422],\n",
       "       [0.27011425],\n",
       "       [0.27937462],\n",
       "       [0.27377029],\n",
       "       [0.27706554],\n",
       "       [0.28543596],\n",
       "       [0.28478653],\n",
       "       [0.27747444],\n",
       "       [0.28586891],\n",
       "       [0.29570655],\n",
       "       [0.29565845],\n",
       "       [0.29784726],\n",
       "       [0.30393265],\n",
       "       [0.32050511],\n",
       "       [0.31930247],\n",
       "       [0.3088635 ],\n",
       "       [0.31162959],\n",
       "       [0.31355382],\n",
       "       [0.31853277],\n",
       "       [0.31417919],\n",
       "       [0.3064101 ],\n",
       "       [0.30879134],\n",
       "       [0.30628984],\n",
       "       [0.31434756],\n",
       "       [0.31160553],\n",
       "       [0.30903187],\n",
       "       [0.32141912],\n",
       "       [0.3229104 ],\n",
       "       [0.30936861],\n",
       "       [0.31384245],\n",
       "       [0.32873121],\n",
       "       [0.32885147],\n",
       "       [0.3224534 ],\n",
       "       [0.32877931],\n",
       "       [0.33613951],\n",
       "       [0.35085989],\n",
       "       [0.35004209],\n",
       "       [0.34871918],\n",
       "       [0.34643416],\n",
       "       [0.34862297],\n",
       "       [0.35134095],\n",
       "       [0.36120265],\n",
       "       [0.35987974],\n",
       "       [0.36762477],\n",
       "       [0.36858689],\n",
       "       [0.37580277],\n",
       "       [0.38174384],\n",
       "       [0.36788936],\n",
       "       [0.3678172 ],\n",
       "       [0.3810463 ],\n",
       "       [0.39802766],\n",
       "       [0.40206855],\n",
       "       [0.40117859],\n",
       "       [0.40144317],\n",
       "       [0.40671076],\n",
       "       [0.40841852],\n",
       "       [0.41337342],\n",
       "       [0.41279615],\n",
       "       [0.41883343],\n",
       "       [0.41443175],\n",
       "       [0.42193626],\n",
       "       [0.42515935],\n",
       "       [0.42321106],\n",
       "       [0.41575466],\n",
       "       [0.41291642],\n",
       "       [0.4123632 ],\n",
       "       [0.42340349],\n",
       "       [0.41840048],\n",
       "       [0.42693927],\n",
       "       [0.42552014],\n",
       "       [0.41808779],\n",
       "       [0.40675887],\n",
       "       [0.41226699],\n",
       "       [0.42150331],\n",
       "       [0.43384245],\n",
       "       [0.4247264 ],\n",
       "       [0.42847865],\n",
       "       [0.43398677],\n",
       "       [0.43564642],\n",
       "       [0.44452195],\n",
       "       [0.45585087],\n",
       "       [0.45717378],\n",
       "       [0.45556224],\n",
       "       [0.45623572],\n",
       "       [0.45484065],\n",
       "       [0.46580878],\n",
       "       [0.46645821],\n",
       "       [0.48002405],\n",
       "       [0.47975947],\n",
       "       [0.48389657],\n",
       "       [0.48901984],\n",
       "       [0.5051353 ],\n",
       "       [0.49811185],\n",
       "       [0.50381239],\n",
       "       [0.50042093],\n",
       "       [0.51196633],\n",
       "       [0.5274564 ],\n",
       "       [0.52914011],\n",
       "       [0.54508719],\n",
       "       [0.53479254],\n",
       "       [0.53156945],\n",
       "       [0.54095009],\n",
       "       [0.54934456],\n",
       "       [0.54414913],\n",
       "       [0.54686711],\n",
       "       [0.5505472 ],\n",
       "       [0.54833434],\n",
       "       [0.52582081],\n",
       "       [0.54684305],\n",
       "       [0.56283824],\n",
       "       [0.56170776],\n",
       "       [0.52716777],\n",
       "       [0.52512327],\n",
       "       [0.54963319],\n",
       "       [0.55588695],\n",
       "       [0.56493085],\n",
       "       [0.55247144],\n",
       "       [0.55612748],\n",
       "       [0.55146121],\n",
       "       [0.56971738],\n",
       "       [0.56411305],\n",
       "       [0.56430547],\n",
       "       [0.54999399],\n",
       "       [0.56110643],\n",
       "       [0.55312087],\n",
       "       [0.5356825 ],\n",
       "       [0.49991581],\n",
       "       [0.47562237],\n",
       "       [0.48661455],\n",
       "       [0.44060132],\n",
       "       [0.44021648],\n",
       "       [0.50143115],\n",
       "       [0.47860493],\n",
       "       [0.51088394],\n",
       "       [0.48726398],\n",
       "       [0.4779074 ],\n",
       "       [0.42292243],\n",
       "       [0.46903187],\n",
       "       [0.44519543],\n",
       "       [0.3797715 ],\n",
       "       [0.45130487],\n",
       "       [0.36529164],\n",
       "       [0.390908  ],\n",
       "       [0.37601924],\n",
       "       [0.37147324],\n",
       "       [0.33409501],\n",
       "       [0.32238124],\n",
       "       [0.37652435],\n",
       "       [0.37325316],\n",
       "       [0.40432952],\n",
       "       [0.3785929 ],\n",
       "       [0.39559832],\n",
       "       [0.39434756],\n",
       "       [0.36216476],\n",
       "       [0.37183403],\n",
       "       [0.36336741],\n",
       "       [0.41402285],\n",
       "       [0.40671076],\n",
       "       [0.4226819 ],\n",
       "       [0.42730006],\n",
       "       [0.43995189],\n",
       "       [0.47314492],\n",
       "       [0.46684305],\n",
       "       [0.47227901],\n",
       "       [0.46292243],\n",
       "       [0.44880337],\n",
       "       [0.42821407],\n",
       "       [0.44680698],\n",
       "       [0.44423331],\n",
       "       [0.46333133],\n",
       "       [0.46381239],\n",
       "       [0.4527721 ],\n",
       "       [0.47478052],\n",
       "       [0.48938064],\n",
       "       [0.47800361],\n",
       "       [0.48784125],\n",
       "       [0.49842453],\n",
       "       [0.50580878],\n",
       "       [0.51328924],\n",
       "       [0.52865905],\n",
       "       [0.54039687],\n",
       "       [0.53173782],\n",
       "       [0.52269393],\n",
       "       [0.52723993],\n",
       "       [0.52283824],\n",
       "       [0.54027661],\n",
       "       [0.53589898],\n",
       "       [0.5505472 ],\n",
       "       [0.54482261],\n",
       "       [0.5497294 ],\n",
       "       [0.54453397],\n",
       "       [0.54785328],\n",
       "       [0.54819002],\n",
       "       [0.54744438],\n",
       "       [0.55684907],\n",
       "       [0.56043295],\n",
       "       [0.56471437],\n",
       "       [0.55797956],\n",
       "       [0.58006013],\n",
       "       [0.5847745 ],\n",
       "       [0.61010222],\n",
       "       [0.63138906],\n",
       "       [0.59064342],\n",
       "       [0.59761876],\n",
       "       [0.60769693],\n",
       "       [0.62956103],\n",
       "       [0.62838244],\n",
       "       [0.62871918],\n",
       "       [0.62388455],\n",
       "       [0.64589296],\n",
       "       [0.6643175 ],\n",
       "       [0.64875526],\n",
       "       [0.66025256],\n",
       "       [0.63328924],\n",
       "       [0.65289236],\n",
       "       [0.66015634],\n",
       "       [0.65849669],\n",
       "       [0.65849669],\n",
       "       [0.68192423],\n",
       "       [0.6791341 ],\n",
       "       [0.70001203],\n",
       "       [0.7039567 ],\n",
       "       [0.70556825],\n",
       "       [0.70131088],\n",
       "       [0.71651233],\n",
       "       [0.72293446],\n",
       "       [0.711365  ],\n",
       "       [0.70948888],\n",
       "       [0.72901984],\n",
       "       [0.71595911],\n",
       "       [0.71858088],\n",
       "       [0.67598316],\n",
       "       [0.67377029],\n",
       "       [0.69488876],\n",
       "       [0.67990379],\n",
       "       [0.69710162],\n",
       "       [0.70816597],\n",
       "       [0.80505111],\n",
       "       [0.83081179],\n",
       "       [0.83781118],\n",
       "       [0.8416356 ],\n",
       "       [0.87858088],\n",
       "       [0.85173782],\n",
       "       [0.86727601],\n",
       "       [0.83502105],\n",
       "       [0.86999399],\n",
       "       [0.88923632],\n",
       "       [0.88825015],\n",
       "       [0.8853638 ],\n",
       "       [0.89455201],\n",
       "       [0.89594708],\n",
       "       [0.92064943],\n",
       "       [0.97929044],\n",
       "       [0.99360192],\n",
       "       [0.98366807],\n",
       "       [1.        ],\n",
       "       [0.98544799],\n",
       "       [0.9834997 ],\n",
       "       [0.09308479],\n",
       "       [0.10544799],\n",
       "       [0.09876127],\n",
       "       [0.07345761],\n",
       "       [0.07365003],\n",
       "       [0.05407096],\n",
       "       [0.06489477],\n",
       "       [0.0556825 ],\n",
       "       [0.05209862],\n",
       "       [0.06016837],\n",
       "       [0.06061335],\n",
       "       [0.0524113 ],\n",
       "       [0.04810583],\n",
       "       [0.03968731],\n",
       "       [0.04748046],\n",
       "       [0.05164161],\n",
       "       [0.04036079],\n",
       "       [0.04300661],\n",
       "       [0.0527721 ],\n",
       "       [0.05921828],\n",
       "       [0.05712568],\n",
       "       [0.06126278],\n",
       "       [0.06361996],\n",
       "       [0.05455201],\n",
       "       [0.06292243],\n",
       "       [0.05488876],\n",
       "       [0.05950692],\n",
       "       [0.05924233],\n",
       "       [0.06405292],\n",
       "       [0.08192423],\n",
       "       [0.07398677],\n",
       "       [0.07420325],\n",
       "       [0.07304871],\n",
       "       [0.06898376],\n",
       "       [0.06167168],\n",
       "       [0.06535177],\n",
       "       [0.06381239],\n",
       "       [0.06111846],\n",
       "       [0.0594107 ],\n",
       "       [0.05943476],\n",
       "       [0.06316296],\n",
       "       [0.05017438],\n",
       "       [0.06008419],\n",
       "       [0.044546  ],\n",
       "       [0.04432952],\n",
       "       [0.04834636],\n",
       "       [0.05919423],\n",
       "       [0.06900782],\n",
       "       [0.06819002],\n",
       "       [0.06248948],\n",
       "       [0.06164762],\n",
       "       [0.07011425],\n",
       "       [0.06944077],\n",
       "       [0.06956103],\n",
       "       [0.07206254],\n",
       "       [0.06987372],\n",
       "       [0.06660253],\n",
       "       [0.06806975],\n",
       "       [0.06494287],\n",
       "       [0.05654841],\n",
       "       [0.05972339],\n",
       "       [0.06179194],\n",
       "       [0.06313891],\n",
       "       [0.06905592],\n",
       "       [0.07788334],\n",
       "       [0.07874925],\n",
       "       [0.07841251],\n",
       "       [0.07675286],\n",
       "       [0.08036079],\n",
       "       [0.08187613],\n",
       "       [0.07562237],\n",
       "       [0.0791341 ],\n",
       "       [0.0771377 ],\n",
       "       [0.07562237],\n",
       "       [0.09029465],\n",
       "       [0.09012628],\n",
       "       [0.09226699],\n",
       "       [0.08734817],\n",
       "       [0.0911365 ],\n",
       "       [0.09991581],\n",
       "       [0.09770295],\n",
       "       [0.10013229],\n",
       "       [0.11148527],\n",
       "       [0.10710764],\n",
       "       [0.10434155],\n",
       "       [0.1018641 ],\n",
       "       [0.09397474],\n",
       "       [0.09782321],\n",
       "       [0.08721587],\n",
       "       [0.09760673],\n",
       "       [0.10032471],\n",
       "       [0.09294047],\n",
       "       [0.09250752]])"
      ]
     },
     "execution_count": 36,
     "metadata": {},
     "output_type": "execute_result"
    }
   ],
   "source": [
    "test_data"
   ]
  },
  {
   "cell_type": "code",
   "execution_count": 37,
   "metadata": {},
   "outputs": [
    {
     "data": {
      "text/plain": [
       "440"
      ]
     },
     "execution_count": 37,
     "metadata": {},
     "output_type": "execute_result"
    }
   ],
   "source": [
    "len(test_data)"
   ]
  },
  {
   "cell_type": "code",
   "execution_count": 38,
   "metadata": {},
   "outputs": [],
   "source": [
    "x_input = test_data[340:].reshape(1, -1)"
   ]
  },
  {
   "cell_type": "code",
   "execution_count": 39,
   "metadata": {},
   "outputs": [
    {
     "data": {
      "text/plain": [
       "(1, 100)"
      ]
     },
     "execution_count": 39,
     "metadata": {},
     "output_type": "execute_result"
    }
   ],
   "source": [
    "x_input.shape"
   ]
  },
  {
   "cell_type": "code",
   "execution_count": 40,
   "metadata": {},
   "outputs": [
    {
     "data": {
      "text/plain": [
       "array([[0.92064943, 0.97929044, 0.99360192, 0.98366807, 1.        ,\n",
       "        0.98544799, 0.9834997 , 0.09308479, 0.10544799, 0.09876127,\n",
       "        0.07345761, 0.07365003, 0.05407096, 0.06489477, 0.0556825 ,\n",
       "        0.05209862, 0.06016837, 0.06061335, 0.0524113 , 0.04810583,\n",
       "        0.03968731, 0.04748046, 0.05164161, 0.04036079, 0.04300661,\n",
       "        0.0527721 , 0.05921828, 0.05712568, 0.06126278, 0.06361996,\n",
       "        0.05455201, 0.06292243, 0.05488876, 0.05950692, 0.05924233,\n",
       "        0.06405292, 0.08192423, 0.07398677, 0.07420325, 0.07304871,\n",
       "        0.06898376, 0.06167168, 0.06535177, 0.06381239, 0.06111846,\n",
       "        0.0594107 , 0.05943476, 0.06316296, 0.05017438, 0.06008419,\n",
       "        0.044546  , 0.04432952, 0.04834636, 0.05919423, 0.06900782,\n",
       "        0.06819002, 0.06248948, 0.06164762, 0.07011425, 0.06944077,\n",
       "        0.06956103, 0.07206254, 0.06987372, 0.06660253, 0.06806975,\n",
       "        0.06494287, 0.05654841, 0.05972339, 0.06179194, 0.06313891,\n",
       "        0.06905592, 0.07788334, 0.07874925, 0.07841251, 0.07675286,\n",
       "        0.08036079, 0.08187613, 0.07562237, 0.0791341 , 0.0771377 ,\n",
       "        0.07562237, 0.09029465, 0.09012628, 0.09226699, 0.08734817,\n",
       "        0.0911365 , 0.09991581, 0.09770295, 0.10013229, 0.11148527,\n",
       "        0.10710764, 0.10434155, 0.1018641 , 0.09397474, 0.09782321,\n",
       "        0.08721587, 0.09760673, 0.10032471, 0.09294047, 0.09250752]])"
      ]
     },
     "execution_count": 40,
     "metadata": {},
     "output_type": "execute_result"
    }
   ],
   "source": [
    "x_input"
   ]
  },
  {
   "cell_type": "code",
   "execution_count": 41,
   "metadata": {},
   "outputs": [],
   "source": [
    "#1. took the entire x_input and put the 2d array entire into a new list temp_input.\n",
    "#2. took the first element of the new temp_input, and made that to a list, relpacing the temp_input variable."
   ]
  },
  {
   "cell_type": "code",
   "execution_count": 42,
   "metadata": {},
   "outputs": [],
   "source": [
    "#1\n",
    "temp_input = list(x_input)\n"
   ]
  },
  {
   "cell_type": "code",
   "execution_count": 43,
   "metadata": {},
   "outputs": [],
   "source": [
    "#2\n",
    "temp_input = temp_input[0].tolist()"
   ]
  },
  {
   "cell_type": "code",
   "execution_count": 44,
   "metadata": {},
   "outputs": [
    {
     "data": {
      "text/plain": [
       "[0.9206494287432352,\n",
       " 0.9792904389657247,\n",
       " 0.9936019242333134,\n",
       " 0.9836680697534577,\n",
       " 1.0,\n",
       " 0.9854479855682503,\n",
       " 0.983499699338545,\n",
       " 0.09308478653036678,\n",
       " 0.10544798556825014,\n",
       " 0.09876127480457003,\n",
       " 0.07345760673481655,\n",
       " 0.07365003006614551,\n",
       " 0.05407095610342749,\n",
       " 0.06489476849067943,\n",
       " 0.055682501503307225,\n",
       " 0.052098616957306054,\n",
       " 0.0601683704149128,\n",
       " 0.06061334936861096,\n",
       " 0.05241130487071555,\n",
       " 0.04810583283223091,\n",
       " 0.03968731208659049,\n",
       " 0.04748045700541187,\n",
       " 0.05164161154539987,\n",
       " 0.04036079374624174,\n",
       " 0.04300661455201443,\n",
       " 0.05277209861695731,\n",
       " 0.05921828021647624,\n",
       " 0.05712567648827421,\n",
       " 0.06126277811184605,\n",
       " 0.06361996392062536,\n",
       " 0.05455201443174984,\n",
       " 0.062922429344558,\n",
       " 0.05488875526157544,\n",
       " 0.059506915213469624,\n",
       " 0.059242333132892344,\n",
       " 0.06405291641611544,\n",
       " 0.08192423331328924,\n",
       " 0.07398677089597111,\n",
       " 0.07420324714371618,\n",
       " 0.07304870715574258,\n",
       " 0.06898376428141911,\n",
       " 0.061671677690920024,\n",
       " 0.06535177390258567,\n",
       " 0.06381238725195432,\n",
       " 0.06111846061334936,\n",
       " 0.059410703547805144,\n",
       " 0.05943475646422125,\n",
       " 0.06316295850871917,\n",
       " 0.05017438364401683,\n",
       " 0.06008418520745634,\n",
       " 0.04454600120264579,\n",
       " 0.04432952495490078,\n",
       " 0.04834636199639203,\n",
       " 0.05919422730006013,\n",
       " 0.06900781719783522,\n",
       " 0.06819001803968727,\n",
       " 0.062489476849067915,\n",
       " 0.06164762477450386,\n",
       " 0.0701142513529765,\n",
       " 0.0694407696933253,\n",
       " 0.06956103427540589,\n",
       " 0.07206253758268188,\n",
       " 0.06987372218881538,\n",
       " 0.0666025255562237,\n",
       " 0.06806975345760674,\n",
       " 0.0649428743235117,\n",
       " 0.056548406494287384,\n",
       " 0.05972339146121464,\n",
       " 0.06179194227300061,\n",
       " 0.06313890559230306,\n",
       " 0.06905592303066743,\n",
       " 0.07788334335538183,\n",
       " 0.07874924834636199,\n",
       " 0.07841250751653633,\n",
       " 0.07675285628382439,\n",
       " 0.08036079374624172,\n",
       " 0.08187612748045697,\n",
       " 0.07562236921226695,\n",
       " 0.0791340950090198,\n",
       " 0.07713770294648226,\n",
       " 0.07562236921226695,\n",
       " 0.0902946482260974,\n",
       " 0.0901262778111846,\n",
       " 0.09226698737221883,\n",
       " 0.08734816596512324,\n",
       " 0.0911365003006614,\n",
       " 0.09991581479254358,\n",
       " 0.09770294648226097,\n",
       " 0.10013229104028859,\n",
       " 0.11148526758869509,\n",
       " 0.10710763680096214,\n",
       " 0.1043415514131088,\n",
       " 0.10186410102224891,\n",
       " 0.09397474443776305,\n",
       " 0.0978232110643415,\n",
       " 0.08721587492483462,\n",
       " 0.09760673481659649,\n",
       " 0.10032471437161755,\n",
       " 0.09294046903187009,\n",
       " 0.09250751653638006]"
      ]
     },
     "execution_count": 44,
     "metadata": {},
     "output_type": "execute_result"
    }
   ],
   "source": [
    "temp_input"
   ]
  },
  {
   "cell_type": "code",
   "execution_count": 45,
   "metadata": {},
   "outputs": [
    {
     "name": "stdout",
     "output_type": "stream",
     "text": [
      "1 day input [0.97929044 0.99360192 0.98366807 1.         0.98544799 0.9834997\n",
      " 0.09308479 0.10544799 0.09876127 0.07345761 0.07365003 0.05407096\n",
      " 0.06489477 0.0556825  0.05209862 0.06016837 0.06061335 0.0524113\n",
      " 0.04810583 0.03968731 0.04748046 0.05164161 0.04036079 0.04300661\n",
      " 0.0527721  0.05921828 0.05712568 0.06126278 0.06361996 0.05455201\n",
      " 0.06292243 0.05488876 0.05950692 0.05924233 0.06405292 0.08192423\n",
      " 0.07398677 0.07420325 0.07304871 0.06898376 0.06167168 0.06535177\n",
      " 0.06381239 0.06111846 0.0594107  0.05943476 0.06316296 0.05017438\n",
      " 0.06008419 0.044546   0.04432952 0.04834636 0.05919423 0.06900782\n",
      " 0.06819002 0.06248948 0.06164762 0.07011425 0.06944077 0.06956103\n",
      " 0.07206254 0.06987372 0.06660253 0.06806975 0.06494287 0.05654841\n",
      " 0.05972339 0.06179194 0.06313891 0.06905592 0.07788334 0.07874925\n",
      " 0.07841251 0.07675286 0.08036079 0.08187613 0.07562237 0.0791341\n",
      " 0.0771377  0.07562237 0.09029465 0.09012628 0.09226699 0.08734817\n",
      " 0.0911365  0.09991581 0.09770295 0.10013229 0.11148527 0.10710764\n",
      " 0.10434155 0.1018641  0.09397474 0.09782321 0.08721587 0.09760673\n",
      " 0.10032471 0.09294047 0.09250752 0.09832642]\n",
      "1 day output [[0.09776524]]\n",
      "2 day input [0.99360192 0.98366807 1.         0.98544799 0.9834997  0.09308479\n",
      " 0.10544799 0.09876127 0.07345761 0.07365003 0.05407096 0.06489477\n",
      " 0.0556825  0.05209862 0.06016837 0.06061335 0.0524113  0.04810583\n",
      " 0.03968731 0.04748046 0.05164161 0.04036079 0.04300661 0.0527721\n",
      " 0.05921828 0.05712568 0.06126278 0.06361996 0.05455201 0.06292243\n",
      " 0.05488876 0.05950692 0.05924233 0.06405292 0.08192423 0.07398677\n",
      " 0.07420325 0.07304871 0.06898376 0.06167168 0.06535177 0.06381239\n",
      " 0.06111846 0.0594107  0.05943476 0.06316296 0.05017438 0.06008419\n",
      " 0.044546   0.04432952 0.04834636 0.05919423 0.06900782 0.06819002\n",
      " 0.06248948 0.06164762 0.07011425 0.06944077 0.06956103 0.07206254\n",
      " 0.06987372 0.06660253 0.06806975 0.06494287 0.05654841 0.05972339\n",
      " 0.06179194 0.06313891 0.06905592 0.07788334 0.07874925 0.07841251\n",
      " 0.07675286 0.08036079 0.08187613 0.07562237 0.0791341  0.0771377\n",
      " 0.07562237 0.09029465 0.09012628 0.09226699 0.08734817 0.0911365\n",
      " 0.09991581 0.09770295 0.10013229 0.11148527 0.10710764 0.10434155\n",
      " 0.1018641  0.09397474 0.09782321 0.08721587 0.09760673 0.10032471\n",
      " 0.09294047 0.09250752 0.09832642 0.09776524]\n",
      "2 day output [[0.0976834]]\n",
      "3 day input [0.98366807 1.         0.98544799 0.9834997  0.09308479 0.10544799\n",
      " 0.09876127 0.07345761 0.07365003 0.05407096 0.06489477 0.0556825\n",
      " 0.05209862 0.06016837 0.06061335 0.0524113  0.04810583 0.03968731\n",
      " 0.04748046 0.05164161 0.04036079 0.04300661 0.0527721  0.05921828\n",
      " 0.05712568 0.06126278 0.06361996 0.05455201 0.06292243 0.05488876\n",
      " 0.05950692 0.05924233 0.06405292 0.08192423 0.07398677 0.07420325\n",
      " 0.07304871 0.06898376 0.06167168 0.06535177 0.06381239 0.06111846\n",
      " 0.0594107  0.05943476 0.06316296 0.05017438 0.06008419 0.044546\n",
      " 0.04432952 0.04834636 0.05919423 0.06900782 0.06819002 0.06248948\n",
      " 0.06164762 0.07011425 0.06944077 0.06956103 0.07206254 0.06987372\n",
      " 0.06660253 0.06806975 0.06494287 0.05654841 0.05972339 0.06179194\n",
      " 0.06313891 0.06905592 0.07788334 0.07874925 0.07841251 0.07675286\n",
      " 0.08036079 0.08187613 0.07562237 0.0791341  0.0771377  0.07562237\n",
      " 0.09029465 0.09012628 0.09226699 0.08734817 0.0911365  0.09991581\n",
      " 0.09770295 0.10013229 0.11148527 0.10710764 0.10434155 0.1018641\n",
      " 0.09397474 0.09782321 0.08721587 0.09760673 0.10032471 0.09294047\n",
      " 0.09250752 0.09832642 0.09776524 0.0976834 ]\n",
      "3 day output [[0.09797449]]\n",
      "4 day input [1.         0.98544799 0.9834997  0.09308479 0.10544799 0.09876127\n",
      " 0.07345761 0.07365003 0.05407096 0.06489477 0.0556825  0.05209862\n",
      " 0.06016837 0.06061335 0.0524113  0.04810583 0.03968731 0.04748046\n",
      " 0.05164161 0.04036079 0.04300661 0.0527721  0.05921828 0.05712568\n",
      " 0.06126278 0.06361996 0.05455201 0.06292243 0.05488876 0.05950692\n",
      " 0.05924233 0.06405292 0.08192423 0.07398677 0.07420325 0.07304871\n",
      " 0.06898376 0.06167168 0.06535177 0.06381239 0.06111846 0.0594107\n",
      " 0.05943476 0.06316296 0.05017438 0.06008419 0.044546   0.04432952\n",
      " 0.04834636 0.05919423 0.06900782 0.06819002 0.06248948 0.06164762\n",
      " 0.07011425 0.06944077 0.06956103 0.07206254 0.06987372 0.06660253\n",
      " 0.06806975 0.06494287 0.05654841 0.05972339 0.06179194 0.06313891\n",
      " 0.06905592 0.07788334 0.07874925 0.07841251 0.07675286 0.08036079\n",
      " 0.08187613 0.07562237 0.0791341  0.0771377  0.07562237 0.09029465\n",
      " 0.09012628 0.09226699 0.08734817 0.0911365  0.09991581 0.09770295\n",
      " 0.10013229 0.11148527 0.10710764 0.10434155 0.1018641  0.09397474\n",
      " 0.09782321 0.08721587 0.09760673 0.10032471 0.09294047 0.09250752\n",
      " 0.09832642 0.09776524 0.0976834  0.09797449]\n",
      "4 day output [[0.0985165]]\n",
      "5 day input [0.98544799 0.9834997  0.09308479 0.10544799 0.09876127 0.07345761\n",
      " 0.07365003 0.05407096 0.06489477 0.0556825  0.05209862 0.06016837\n",
      " 0.06061335 0.0524113  0.04810583 0.03968731 0.04748046 0.05164161\n",
      " 0.04036079 0.04300661 0.0527721  0.05921828 0.05712568 0.06126278\n",
      " 0.06361996 0.05455201 0.06292243 0.05488876 0.05950692 0.05924233\n",
      " 0.06405292 0.08192423 0.07398677 0.07420325 0.07304871 0.06898376\n",
      " 0.06167168 0.06535177 0.06381239 0.06111846 0.0594107  0.05943476\n",
      " 0.06316296 0.05017438 0.06008419 0.044546   0.04432952 0.04834636\n",
      " 0.05919423 0.06900782 0.06819002 0.06248948 0.06164762 0.07011425\n",
      " 0.06944077 0.06956103 0.07206254 0.06987372 0.06660253 0.06806975\n",
      " 0.06494287 0.05654841 0.05972339 0.06179194 0.06313891 0.06905592\n",
      " 0.07788334 0.07874925 0.07841251 0.07675286 0.08036079 0.08187613\n",
      " 0.07562237 0.0791341  0.0771377  0.07562237 0.09029465 0.09012628\n",
      " 0.09226699 0.08734817 0.0911365  0.09991581 0.09770295 0.10013229\n",
      " 0.11148527 0.10710764 0.10434155 0.1018641  0.09397474 0.09782321\n",
      " 0.08721587 0.09760673 0.10032471 0.09294047 0.09250752 0.09832642\n",
      " 0.09776524 0.0976834  0.09797449 0.0985165 ]\n",
      "5 day output [[0.09921069]]\n",
      "6 day input [0.9834997  0.09308479 0.10544799 0.09876127 0.07345761 0.07365003\n",
      " 0.05407096 0.06489477 0.0556825  0.05209862 0.06016837 0.06061335\n",
      " 0.0524113  0.04810583 0.03968731 0.04748046 0.05164161 0.04036079\n",
      " 0.04300661 0.0527721  0.05921828 0.05712568 0.06126278 0.06361996\n",
      " 0.05455201 0.06292243 0.05488876 0.05950692 0.05924233 0.06405292\n",
      " 0.08192423 0.07398677 0.07420325 0.07304871 0.06898376 0.06167168\n",
      " 0.06535177 0.06381239 0.06111846 0.0594107  0.05943476 0.06316296\n",
      " 0.05017438 0.06008419 0.044546   0.04432952 0.04834636 0.05919423\n",
      " 0.06900782 0.06819002 0.06248948 0.06164762 0.07011425 0.06944077\n",
      " 0.06956103 0.07206254 0.06987372 0.06660253 0.06806975 0.06494287\n",
      " 0.05654841 0.05972339 0.06179194 0.06313891 0.06905592 0.07788334\n",
      " 0.07874925 0.07841251 0.07675286 0.08036079 0.08187613 0.07562237\n",
      " 0.0791341  0.0771377  0.07562237 0.09029465 0.09012628 0.09226699\n",
      " 0.08734817 0.0911365  0.09991581 0.09770295 0.10013229 0.11148527\n",
      " 0.10710764 0.10434155 0.1018641  0.09397474 0.09782321 0.08721587\n",
      " 0.09760673 0.10032471 0.09294047 0.09250752 0.09832642 0.09776524\n",
      " 0.0976834  0.09797449 0.0985165  0.09921069]\n",
      "6 day output [[0.09998936]]\n",
      "7 day input [0.09308479 0.10544799 0.09876127 0.07345761 0.07365003 0.05407096\n",
      " 0.06489477 0.0556825  0.05209862 0.06016837 0.06061335 0.0524113\n",
      " 0.04810583 0.03968731 0.04748046 0.05164161 0.04036079 0.04300661\n",
      " 0.0527721  0.05921828 0.05712568 0.06126278 0.06361996 0.05455201\n",
      " 0.06292243 0.05488876 0.05950692 0.05924233 0.06405292 0.08192423\n",
      " 0.07398677 0.07420325 0.07304871 0.06898376 0.06167168 0.06535177\n",
      " 0.06381239 0.06111846 0.0594107  0.05943476 0.06316296 0.05017438\n",
      " 0.06008419 0.044546   0.04432952 0.04834636 0.05919423 0.06900782\n",
      " 0.06819002 0.06248948 0.06164762 0.07011425 0.06944077 0.06956103\n",
      " 0.07206254 0.06987372 0.06660253 0.06806975 0.06494287 0.05654841\n",
      " 0.05972339 0.06179194 0.06313891 0.06905592 0.07788334 0.07874925\n",
      " 0.07841251 0.07675286 0.08036079 0.08187613 0.07562237 0.0791341\n",
      " 0.0771377  0.07562237 0.09029465 0.09012628 0.09226699 0.08734817\n",
      " 0.0911365  0.09991581 0.09770295 0.10013229 0.11148527 0.10710764\n",
      " 0.10434155 0.1018641  0.09397474 0.09782321 0.08721587 0.09760673\n",
      " 0.10032471 0.09294047 0.09250752 0.09832642 0.09776524 0.0976834\n",
      " 0.09797449 0.0985165  0.09921069 0.09998936]\n",
      "7 day output [[0.10081053]]\n",
      "8 day input [0.10544799 0.09876127 0.07345761 0.07365003 0.05407096 0.06489477\n",
      " 0.0556825  0.05209862 0.06016837 0.06061335 0.0524113  0.04810583\n",
      " 0.03968731 0.04748046 0.05164161 0.04036079 0.04300661 0.0527721\n",
      " 0.05921828 0.05712568 0.06126278 0.06361996 0.05455201 0.06292243\n",
      " 0.05488876 0.05950692 0.05924233 0.06405292 0.08192423 0.07398677\n",
      " 0.07420325 0.07304871 0.06898376 0.06167168 0.06535177 0.06381239\n",
      " 0.06111846 0.0594107  0.05943476 0.06316296 0.05017438 0.06008419\n",
      " 0.044546   0.04432952 0.04834636 0.05919423 0.06900782 0.06819002\n",
      " 0.06248948 0.06164762 0.07011425 0.06944077 0.06956103 0.07206254\n",
      " 0.06987372 0.06660253 0.06806975 0.06494287 0.05654841 0.05972339\n",
      " 0.06179194 0.06313891 0.06905592 0.07788334 0.07874925 0.07841251\n",
      " 0.07675286 0.08036079 0.08187613 0.07562237 0.0791341  0.0771377\n",
      " 0.07562237 0.09029465 0.09012628 0.09226699 0.08734817 0.0911365\n",
      " 0.09991581 0.09770295 0.10013229 0.11148527 0.10710764 0.10434155\n",
      " 0.1018641  0.09397474 0.09782321 0.08721587 0.09760673 0.10032471\n",
      " 0.09294047 0.09250752 0.09832642 0.09776524 0.0976834  0.09797449\n",
      " 0.0985165  0.09921069 0.09998936 0.10081053]\n",
      "8 day output [[0.10164984]]\n",
      "9 day input [0.09876127 0.07345761 0.07365003 0.05407096 0.06489477 0.0556825\n",
      " 0.05209862 0.06016837 0.06061335 0.0524113  0.04810583 0.03968731\n",
      " 0.04748046 0.05164161 0.04036079 0.04300661 0.0527721  0.05921828\n",
      " 0.05712568 0.06126278 0.06361996 0.05455201 0.06292243 0.05488876\n",
      " 0.05950692 0.05924233 0.06405292 0.08192423 0.07398677 0.07420325\n",
      " 0.07304871 0.06898376 0.06167168 0.06535177 0.06381239 0.06111846\n",
      " 0.0594107  0.05943476 0.06316296 0.05017438 0.06008419 0.044546\n",
      " 0.04432952 0.04834636 0.05919423 0.06900782 0.06819002 0.06248948\n",
      " 0.06164762 0.07011425 0.06944077 0.06956103 0.07206254 0.06987372\n",
      " 0.06660253 0.06806975 0.06494287 0.05654841 0.05972339 0.06179194\n",
      " 0.06313891 0.06905592 0.07788334 0.07874925 0.07841251 0.07675286\n",
      " 0.08036079 0.08187613 0.07562237 0.0791341  0.0771377  0.07562237\n",
      " 0.09029465 0.09012628 0.09226699 0.08734817 0.0911365  0.09991581\n",
      " 0.09770295 0.10013229 0.11148527 0.10710764 0.10434155 0.1018641\n",
      " 0.09397474 0.09782321 0.08721587 0.09760673 0.10032471 0.09294047\n",
      " 0.09250752 0.09832642 0.09776524 0.0976834  0.09797449 0.0985165\n",
      " 0.09921069 0.09998936 0.10081053 0.10164984]\n",
      "9 day output [[0.10249358]]\n",
      "10 day input [0.07345761 0.07365003 0.05407096 0.06489477 0.0556825  0.05209862\n",
      " 0.06016837 0.06061335 0.0524113  0.04810583 0.03968731 0.04748046\n",
      " 0.05164161 0.04036079 0.04300661 0.0527721  0.05921828 0.05712568\n",
      " 0.06126278 0.06361996 0.05455201 0.06292243 0.05488876 0.05950692\n",
      " 0.05924233 0.06405292 0.08192423 0.07398677 0.07420325 0.07304871\n",
      " 0.06898376 0.06167168 0.06535177 0.06381239 0.06111846 0.0594107\n",
      " 0.05943476 0.06316296 0.05017438 0.06008419 0.044546   0.04432952\n",
      " 0.04834636 0.05919423 0.06900782 0.06819002 0.06248948 0.06164762\n",
      " 0.07011425 0.06944077 0.06956103 0.07206254 0.06987372 0.06660253\n",
      " 0.06806975 0.06494287 0.05654841 0.05972339 0.06179194 0.06313891\n",
      " 0.06905592 0.07788334 0.07874925 0.07841251 0.07675286 0.08036079\n",
      " 0.08187613 0.07562237 0.0791341  0.0771377  0.07562237 0.09029465\n",
      " 0.09012628 0.09226699 0.08734817 0.0911365  0.09991581 0.09770295\n",
      " 0.10013229 0.11148527 0.10710764 0.10434155 0.1018641  0.09397474\n",
      " 0.09782321 0.08721587 0.09760673 0.10032471 0.09294047 0.09250752\n",
      " 0.09832642 0.09776524 0.0976834  0.09797449 0.0985165  0.09921069\n",
      " 0.09998936 0.10081053 0.10164984 0.10249358]\n"
     ]
    },
    {
     "name": "stdout",
     "output_type": "stream",
     "text": [
      "10 day output [[0.10333376]]\n",
      "11 day input [0.07365003 0.05407096 0.06489477 0.0556825  0.05209862 0.06016837\n",
      " 0.06061335 0.0524113  0.04810583 0.03968731 0.04748046 0.05164161\n",
      " 0.04036079 0.04300661 0.0527721  0.05921828 0.05712568 0.06126278\n",
      " 0.06361996 0.05455201 0.06292243 0.05488876 0.05950692 0.05924233\n",
      " 0.06405292 0.08192423 0.07398677 0.07420325 0.07304871 0.06898376\n",
      " 0.06167168 0.06535177 0.06381239 0.06111846 0.0594107  0.05943476\n",
      " 0.06316296 0.05017438 0.06008419 0.044546   0.04432952 0.04834636\n",
      " 0.05919423 0.06900782 0.06819002 0.06248948 0.06164762 0.07011425\n",
      " 0.06944077 0.06956103 0.07206254 0.06987372 0.06660253 0.06806975\n",
      " 0.06494287 0.05654841 0.05972339 0.06179194 0.06313891 0.06905592\n",
      " 0.07788334 0.07874925 0.07841251 0.07675286 0.08036079 0.08187613\n",
      " 0.07562237 0.0791341  0.0771377  0.07562237 0.09029465 0.09012628\n",
      " 0.09226699 0.08734817 0.0911365  0.09991581 0.09770295 0.10013229\n",
      " 0.11148527 0.10710764 0.10434155 0.1018641  0.09397474 0.09782321\n",
      " 0.08721587 0.09760673 0.10032471 0.09294047 0.09250752 0.09832642\n",
      " 0.09776524 0.0976834  0.09797449 0.0985165  0.09921069 0.09998936\n",
      " 0.10081053 0.10164984 0.10249358 0.10333376]\n",
      "11 day output [[0.10416536]]\n",
      "12 day input [0.05407096 0.06489477 0.0556825  0.05209862 0.06016837 0.06061335\n",
      " 0.0524113  0.04810583 0.03968731 0.04748046 0.05164161 0.04036079\n",
      " 0.04300661 0.0527721  0.05921828 0.05712568 0.06126278 0.06361996\n",
      " 0.05455201 0.06292243 0.05488876 0.05950692 0.05924233 0.06405292\n",
      " 0.08192423 0.07398677 0.07420325 0.07304871 0.06898376 0.06167168\n",
      " 0.06535177 0.06381239 0.06111846 0.0594107  0.05943476 0.06316296\n",
      " 0.05017438 0.06008419 0.044546   0.04432952 0.04834636 0.05919423\n",
      " 0.06900782 0.06819002 0.06248948 0.06164762 0.07011425 0.06944077\n",
      " 0.06956103 0.07206254 0.06987372 0.06660253 0.06806975 0.06494287\n",
      " 0.05654841 0.05972339 0.06179194 0.06313891 0.06905592 0.07788334\n",
      " 0.07874925 0.07841251 0.07675286 0.08036079 0.08187613 0.07562237\n",
      " 0.0791341  0.0771377  0.07562237 0.09029465 0.09012628 0.09226699\n",
      " 0.08734817 0.0911365  0.09991581 0.09770295 0.10013229 0.11148527\n",
      " 0.10710764 0.10434155 0.1018641  0.09397474 0.09782321 0.08721587\n",
      " 0.09760673 0.10032471 0.09294047 0.09250752 0.09832642 0.09776524\n",
      " 0.0976834  0.09797449 0.0985165  0.09921069 0.09998936 0.10081053\n",
      " 0.10164984 0.10249358 0.10333376 0.10416536]\n",
      "12 day output [[0.10498503]]\n",
      "13 day input [0.06489477 0.0556825  0.05209862 0.06016837 0.06061335 0.0524113\n",
      " 0.04810583 0.03968731 0.04748046 0.05164161 0.04036079 0.04300661\n",
      " 0.0527721  0.05921828 0.05712568 0.06126278 0.06361996 0.05455201\n",
      " 0.06292243 0.05488876 0.05950692 0.05924233 0.06405292 0.08192423\n",
      " 0.07398677 0.07420325 0.07304871 0.06898376 0.06167168 0.06535177\n",
      " 0.06381239 0.06111846 0.0594107  0.05943476 0.06316296 0.05017438\n",
      " 0.06008419 0.044546   0.04432952 0.04834636 0.05919423 0.06900782\n",
      " 0.06819002 0.06248948 0.06164762 0.07011425 0.06944077 0.06956103\n",
      " 0.07206254 0.06987372 0.06660253 0.06806975 0.06494287 0.05654841\n",
      " 0.05972339 0.06179194 0.06313891 0.06905592 0.07788334 0.07874925\n",
      " 0.07841251 0.07675286 0.08036079 0.08187613 0.07562237 0.0791341\n",
      " 0.0771377  0.07562237 0.09029465 0.09012628 0.09226699 0.08734817\n",
      " 0.0911365  0.09991581 0.09770295 0.10013229 0.11148527 0.10710764\n",
      " 0.10434155 0.1018641  0.09397474 0.09782321 0.08721587 0.09760673\n",
      " 0.10032471 0.09294047 0.09250752 0.09832642 0.09776524 0.0976834\n",
      " 0.09797449 0.0985165  0.09921069 0.09998936 0.10081053 0.10164984\n",
      " 0.10249358 0.10333376 0.10416536 0.10498503]\n",
      "13 day output [[0.10579041]]\n",
      "14 day input [0.0556825  0.05209862 0.06016837 0.06061335 0.0524113  0.04810583\n",
      " 0.03968731 0.04748046 0.05164161 0.04036079 0.04300661 0.0527721\n",
      " 0.05921828 0.05712568 0.06126278 0.06361996 0.05455201 0.06292243\n",
      " 0.05488876 0.05950692 0.05924233 0.06405292 0.08192423 0.07398677\n",
      " 0.07420325 0.07304871 0.06898376 0.06167168 0.06535177 0.06381239\n",
      " 0.06111846 0.0594107  0.05943476 0.06316296 0.05017438 0.06008419\n",
      " 0.044546   0.04432952 0.04834636 0.05919423 0.06900782 0.06819002\n",
      " 0.06248948 0.06164762 0.07011425 0.06944077 0.06956103 0.07206254\n",
      " 0.06987372 0.06660253 0.06806975 0.06494287 0.05654841 0.05972339\n",
      " 0.06179194 0.06313891 0.06905592 0.07788334 0.07874925 0.07841251\n",
      " 0.07675286 0.08036079 0.08187613 0.07562237 0.0791341  0.0771377\n",
      " 0.07562237 0.09029465 0.09012628 0.09226699 0.08734817 0.0911365\n",
      " 0.09991581 0.09770295 0.10013229 0.11148527 0.10710764 0.10434155\n",
      " 0.1018641  0.09397474 0.09782321 0.08721587 0.09760673 0.10032471\n",
      " 0.09294047 0.09250752 0.09832642 0.09776524 0.0976834  0.09797449\n",
      " 0.0985165  0.09921069 0.09998936 0.10081053 0.10164984 0.10249358\n",
      " 0.10333376 0.10416536 0.10498503 0.10579041]\n",
      "14 day output [[0.10657999]]\n",
      "15 day input [0.05209862 0.06016837 0.06061335 0.0524113  0.04810583 0.03968731\n",
      " 0.04748046 0.05164161 0.04036079 0.04300661 0.0527721  0.05921828\n",
      " 0.05712568 0.06126278 0.06361996 0.05455201 0.06292243 0.05488876\n",
      " 0.05950692 0.05924233 0.06405292 0.08192423 0.07398677 0.07420325\n",
      " 0.07304871 0.06898376 0.06167168 0.06535177 0.06381239 0.06111846\n",
      " 0.0594107  0.05943476 0.06316296 0.05017438 0.06008419 0.044546\n",
      " 0.04432952 0.04834636 0.05919423 0.06900782 0.06819002 0.06248948\n",
      " 0.06164762 0.07011425 0.06944077 0.06956103 0.07206254 0.06987372\n",
      " 0.06660253 0.06806975 0.06494287 0.05654841 0.05972339 0.06179194\n",
      " 0.06313891 0.06905592 0.07788334 0.07874925 0.07841251 0.07675286\n",
      " 0.08036079 0.08187613 0.07562237 0.0791341  0.0771377  0.07562237\n",
      " 0.09029465 0.09012628 0.09226699 0.08734817 0.0911365  0.09991581\n",
      " 0.09770295 0.10013229 0.11148527 0.10710764 0.10434155 0.1018641\n",
      " 0.09397474 0.09782321 0.08721587 0.09760673 0.10032471 0.09294047\n",
      " 0.09250752 0.09832642 0.09776524 0.0976834  0.09797449 0.0985165\n",
      " 0.09921069 0.09998936 0.10081053 0.10164984 0.10249358 0.10333376\n",
      " 0.10416536 0.10498503 0.10579041 0.10657999]\n",
      "15 day output [[0.10735301]]\n",
      "16 day input [0.06016837 0.06061335 0.0524113  0.04810583 0.03968731 0.04748046\n",
      " 0.05164161 0.04036079 0.04300661 0.0527721  0.05921828 0.05712568\n",
      " 0.06126278 0.06361996 0.05455201 0.06292243 0.05488876 0.05950692\n",
      " 0.05924233 0.06405292 0.08192423 0.07398677 0.07420325 0.07304871\n",
      " 0.06898376 0.06167168 0.06535177 0.06381239 0.06111846 0.0594107\n",
      " 0.05943476 0.06316296 0.05017438 0.06008419 0.044546   0.04432952\n",
      " 0.04834636 0.05919423 0.06900782 0.06819002 0.06248948 0.06164762\n",
      " 0.07011425 0.06944077 0.06956103 0.07206254 0.06987372 0.06660253\n",
      " 0.06806975 0.06494287 0.05654841 0.05972339 0.06179194 0.06313891\n",
      " 0.06905592 0.07788334 0.07874925 0.07841251 0.07675286 0.08036079\n",
      " 0.08187613 0.07562237 0.0791341  0.0771377  0.07562237 0.09029465\n",
      " 0.09012628 0.09226699 0.08734817 0.0911365  0.09991581 0.09770295\n",
      " 0.10013229 0.11148527 0.10710764 0.10434155 0.1018641  0.09397474\n",
      " 0.09782321 0.08721587 0.09760673 0.10032471 0.09294047 0.09250752\n",
      " 0.09832642 0.09776524 0.0976834  0.09797449 0.0985165  0.09921069\n",
      " 0.09998936 0.10081053 0.10164984 0.10249358 0.10333376 0.10416536\n",
      " 0.10498503 0.10579041 0.10657999 0.10735301]\n",
      "16 day output [[0.10810932]]\n",
      "17 day input [0.06061335 0.0524113  0.04810583 0.03968731 0.04748046 0.05164161\n",
      " 0.04036079 0.04300661 0.0527721  0.05921828 0.05712568 0.06126278\n",
      " 0.06361996 0.05455201 0.06292243 0.05488876 0.05950692 0.05924233\n",
      " 0.06405292 0.08192423 0.07398677 0.07420325 0.07304871 0.06898376\n",
      " 0.06167168 0.06535177 0.06381239 0.06111846 0.0594107  0.05943476\n",
      " 0.06316296 0.05017438 0.06008419 0.044546   0.04432952 0.04834636\n",
      " 0.05919423 0.06900782 0.06819002 0.06248948 0.06164762 0.07011425\n",
      " 0.06944077 0.06956103 0.07206254 0.06987372 0.06660253 0.06806975\n",
      " 0.06494287 0.05654841 0.05972339 0.06179194 0.06313891 0.06905592\n",
      " 0.07788334 0.07874925 0.07841251 0.07675286 0.08036079 0.08187613\n",
      " 0.07562237 0.0791341  0.0771377  0.07562237 0.09029465 0.09012628\n",
      " 0.09226699 0.08734817 0.0911365  0.09991581 0.09770295 0.10013229\n",
      " 0.11148527 0.10710764 0.10434155 0.1018641  0.09397474 0.09782321\n",
      " 0.08721587 0.09760673 0.10032471 0.09294047 0.09250752 0.09832642\n",
      " 0.09776524 0.0976834  0.09797449 0.0985165  0.09921069 0.09998936\n",
      " 0.10081053 0.10164984 0.10249358 0.10333376 0.10416536 0.10498503\n",
      " 0.10579041 0.10657999 0.10735301 0.10810932]\n",
      "17 day output [[0.1088494]]\n",
      "18 day input [0.0524113  0.04810583 0.03968731 0.04748046 0.05164161 0.04036079\n",
      " 0.04300661 0.0527721  0.05921828 0.05712568 0.06126278 0.06361996\n",
      " 0.05455201 0.06292243 0.05488876 0.05950692 0.05924233 0.06405292\n",
      " 0.08192423 0.07398677 0.07420325 0.07304871 0.06898376 0.06167168\n",
      " 0.06535177 0.06381239 0.06111846 0.0594107  0.05943476 0.06316296\n",
      " 0.05017438 0.06008419 0.044546   0.04432952 0.04834636 0.05919423\n",
      " 0.06900782 0.06819002 0.06248948 0.06164762 0.07011425 0.06944077\n",
      " 0.06956103 0.07206254 0.06987372 0.06660253 0.06806975 0.06494287\n",
      " 0.05654841 0.05972339 0.06179194 0.06313891 0.06905592 0.07788334\n",
      " 0.07874925 0.07841251 0.07675286 0.08036079 0.08187613 0.07562237\n",
      " 0.0791341  0.0771377  0.07562237 0.09029465 0.09012628 0.09226699\n",
      " 0.08734817 0.0911365  0.09991581 0.09770295 0.10013229 0.11148527\n",
      " 0.10710764 0.10434155 0.1018641  0.09397474 0.09782321 0.08721587\n",
      " 0.09760673 0.10032471 0.09294047 0.09250752 0.09832642 0.09776524\n",
      " 0.0976834  0.09797449 0.0985165  0.09921069 0.09998936 0.10081053\n",
      " 0.10164984 0.10249358 0.10333376 0.10416536 0.10498503 0.10579041\n",
      " 0.10657999 0.10735301 0.10810932 0.1088494 ]\n",
      "18 day output [[0.10957428]]\n",
      "19 day input [0.04810583 0.03968731 0.04748046 0.05164161 0.04036079 0.04300661\n",
      " 0.0527721  0.05921828 0.05712568 0.06126278 0.06361996 0.05455201\n",
      " 0.06292243 0.05488876 0.05950692 0.05924233 0.06405292 0.08192423\n",
      " 0.07398677 0.07420325 0.07304871 0.06898376 0.06167168 0.06535177\n",
      " 0.06381239 0.06111846 0.0594107  0.05943476 0.06316296 0.05017438\n",
      " 0.06008419 0.044546   0.04432952 0.04834636 0.05919423 0.06900782\n",
      " 0.06819002 0.06248948 0.06164762 0.07011425 0.06944077 0.06956103\n",
      " 0.07206254 0.06987372 0.06660253 0.06806975 0.06494287 0.05654841\n",
      " 0.05972339 0.06179194 0.06313891 0.06905592 0.07788334 0.07874925\n",
      " 0.07841251 0.07675286 0.08036079 0.08187613 0.07562237 0.0791341\n",
      " 0.0771377  0.07562237 0.09029465 0.09012628 0.09226699 0.08734817\n",
      " 0.0911365  0.09991581 0.09770295 0.10013229 0.11148527 0.10710764\n",
      " 0.10434155 0.1018641  0.09397474 0.09782321 0.08721587 0.09760673\n",
      " 0.10032471 0.09294047 0.09250752 0.09832642 0.09776524 0.0976834\n",
      " 0.09797449 0.0985165  0.09921069 0.09998936 0.10081053 0.10164984\n",
      " 0.10249358 0.10333376 0.10416536 0.10498503 0.10579041 0.10657999\n",
      " 0.10735301 0.10810932 0.1088494  0.10957428]\n"
     ]
    },
    {
     "name": "stdout",
     "output_type": "stream",
     "text": [
      "19 day output [[0.11028533]]\n",
      "20 day input [0.03968731 0.04748046 0.05164161 0.04036079 0.04300661 0.0527721\n",
      " 0.05921828 0.05712568 0.06126278 0.06361996 0.05455201 0.06292243\n",
      " 0.05488876 0.05950692 0.05924233 0.06405292 0.08192423 0.07398677\n",
      " 0.07420325 0.07304871 0.06898376 0.06167168 0.06535177 0.06381239\n",
      " 0.06111846 0.0594107  0.05943476 0.06316296 0.05017438 0.06008419\n",
      " 0.044546   0.04432952 0.04834636 0.05919423 0.06900782 0.06819002\n",
      " 0.06248948 0.06164762 0.07011425 0.06944077 0.06956103 0.07206254\n",
      " 0.06987372 0.06660253 0.06806975 0.06494287 0.05654841 0.05972339\n",
      " 0.06179194 0.06313891 0.06905592 0.07788334 0.07874925 0.07841251\n",
      " 0.07675286 0.08036079 0.08187613 0.07562237 0.0791341  0.0771377\n",
      " 0.07562237 0.09029465 0.09012628 0.09226699 0.08734817 0.0911365\n",
      " 0.09991581 0.09770295 0.10013229 0.11148527 0.10710764 0.10434155\n",
      " 0.1018641  0.09397474 0.09782321 0.08721587 0.09760673 0.10032471\n",
      " 0.09294047 0.09250752 0.09832642 0.09776524 0.0976834  0.09797449\n",
      " 0.0985165  0.09921069 0.09998936 0.10081053 0.10164984 0.10249358\n",
      " 0.10333376 0.10416536 0.10498503 0.10579041 0.10657999 0.10735301\n",
      " 0.10810932 0.1088494  0.10957428 0.11028533]\n",
      "20 day output [[0.11098419]]\n",
      "21 day input [0.04748046 0.05164161 0.04036079 0.04300661 0.0527721  0.05921828\n",
      " 0.05712568 0.06126278 0.06361996 0.05455201 0.06292243 0.05488876\n",
      " 0.05950692 0.05924233 0.06405292 0.08192423 0.07398677 0.07420325\n",
      " 0.07304871 0.06898376 0.06167168 0.06535177 0.06381239 0.06111846\n",
      " 0.0594107  0.05943476 0.06316296 0.05017438 0.06008419 0.044546\n",
      " 0.04432952 0.04834636 0.05919423 0.06900782 0.06819002 0.06248948\n",
      " 0.06164762 0.07011425 0.06944077 0.06956103 0.07206254 0.06987372\n",
      " 0.06660253 0.06806975 0.06494287 0.05654841 0.05972339 0.06179194\n",
      " 0.06313891 0.06905592 0.07788334 0.07874925 0.07841251 0.07675286\n",
      " 0.08036079 0.08187613 0.07562237 0.0791341  0.0771377  0.07562237\n",
      " 0.09029465 0.09012628 0.09226699 0.08734817 0.0911365  0.09991581\n",
      " 0.09770295 0.10013229 0.11148527 0.10710764 0.10434155 0.1018641\n",
      " 0.09397474 0.09782321 0.08721587 0.09760673 0.10032471 0.09294047\n",
      " 0.09250752 0.09832642 0.09776524 0.0976834  0.09797449 0.0985165\n",
      " 0.09921069 0.09998936 0.10081053 0.10164984 0.10249358 0.10333376\n",
      " 0.10416536 0.10498503 0.10579041 0.10657999 0.10735301 0.10810932\n",
      " 0.1088494  0.10957428 0.11028533 0.11098419]\n",
      "21 day output [[0.11167266]]\n",
      "22 day input [0.05164161 0.04036079 0.04300661 0.0527721  0.05921828 0.05712568\n",
      " 0.06126278 0.06361996 0.05455201 0.06292243 0.05488876 0.05950692\n",
      " 0.05924233 0.06405292 0.08192423 0.07398677 0.07420325 0.07304871\n",
      " 0.06898376 0.06167168 0.06535177 0.06381239 0.06111846 0.0594107\n",
      " 0.05943476 0.06316296 0.05017438 0.06008419 0.044546   0.04432952\n",
      " 0.04834636 0.05919423 0.06900782 0.06819002 0.06248948 0.06164762\n",
      " 0.07011425 0.06944077 0.06956103 0.07206254 0.06987372 0.06660253\n",
      " 0.06806975 0.06494287 0.05654841 0.05972339 0.06179194 0.06313891\n",
      " 0.06905592 0.07788334 0.07874925 0.07841251 0.07675286 0.08036079\n",
      " 0.08187613 0.07562237 0.0791341  0.0771377  0.07562237 0.09029465\n",
      " 0.09012628 0.09226699 0.08734817 0.0911365  0.09991581 0.09770295\n",
      " 0.10013229 0.11148527 0.10710764 0.10434155 0.1018641  0.09397474\n",
      " 0.09782321 0.08721587 0.09760673 0.10032471 0.09294047 0.09250752\n",
      " 0.09832642 0.09776524 0.0976834  0.09797449 0.0985165  0.09921069\n",
      " 0.09998936 0.10081053 0.10164984 0.10249358 0.10333376 0.10416536\n",
      " 0.10498503 0.10579041 0.10657999 0.10735301 0.10810932 0.1088494\n",
      " 0.10957428 0.11028533 0.11098419 0.11167266]\n",
      "22 day output [[0.11235252]]\n",
      "23 day input [0.04036079 0.04300661 0.0527721  0.05921828 0.05712568 0.06126278\n",
      " 0.06361996 0.05455201 0.06292243 0.05488876 0.05950692 0.05924233\n",
      " 0.06405292 0.08192423 0.07398677 0.07420325 0.07304871 0.06898376\n",
      " 0.06167168 0.06535177 0.06381239 0.06111846 0.0594107  0.05943476\n",
      " 0.06316296 0.05017438 0.06008419 0.044546   0.04432952 0.04834636\n",
      " 0.05919423 0.06900782 0.06819002 0.06248948 0.06164762 0.07011425\n",
      " 0.06944077 0.06956103 0.07206254 0.06987372 0.06660253 0.06806975\n",
      " 0.06494287 0.05654841 0.05972339 0.06179194 0.06313891 0.06905592\n",
      " 0.07788334 0.07874925 0.07841251 0.07675286 0.08036079 0.08187613\n",
      " 0.07562237 0.0791341  0.0771377  0.07562237 0.09029465 0.09012628\n",
      " 0.09226699 0.08734817 0.0911365  0.09991581 0.09770295 0.10013229\n",
      " 0.11148527 0.10710764 0.10434155 0.1018641  0.09397474 0.09782321\n",
      " 0.08721587 0.09760673 0.10032471 0.09294047 0.09250752 0.09832642\n",
      " 0.09776524 0.0976834  0.09797449 0.0985165  0.09921069 0.09998936\n",
      " 0.10081053 0.10164984 0.10249358 0.10333376 0.10416536 0.10498503\n",
      " 0.10579041 0.10657999 0.10735301 0.10810932 0.1088494  0.10957428\n",
      " 0.11028533 0.11098419 0.11167266 0.11235252]\n",
      "23 day output [[0.11302561]]\n",
      "24 day input [0.04300661 0.0527721  0.05921828 0.05712568 0.06126278 0.06361996\n",
      " 0.05455201 0.06292243 0.05488876 0.05950692 0.05924233 0.06405292\n",
      " 0.08192423 0.07398677 0.07420325 0.07304871 0.06898376 0.06167168\n",
      " 0.06535177 0.06381239 0.06111846 0.0594107  0.05943476 0.06316296\n",
      " 0.05017438 0.06008419 0.044546   0.04432952 0.04834636 0.05919423\n",
      " 0.06900782 0.06819002 0.06248948 0.06164762 0.07011425 0.06944077\n",
      " 0.06956103 0.07206254 0.06987372 0.06660253 0.06806975 0.06494287\n",
      " 0.05654841 0.05972339 0.06179194 0.06313891 0.06905592 0.07788334\n",
      " 0.07874925 0.07841251 0.07675286 0.08036079 0.08187613 0.07562237\n",
      " 0.0791341  0.0771377  0.07562237 0.09029465 0.09012628 0.09226699\n",
      " 0.08734817 0.0911365  0.09991581 0.09770295 0.10013229 0.11148527\n",
      " 0.10710764 0.10434155 0.1018641  0.09397474 0.09782321 0.08721587\n",
      " 0.09760673 0.10032471 0.09294047 0.09250752 0.09832642 0.09776524\n",
      " 0.0976834  0.09797449 0.0985165  0.09921069 0.09998936 0.10081053\n",
      " 0.10164984 0.10249358 0.10333376 0.10416536 0.10498503 0.10579041\n",
      " 0.10657999 0.10735301 0.10810932 0.1088494  0.10957428 0.11028533\n",
      " 0.11098419 0.11167266 0.11235252 0.11302561]\n",
      "24 day output [[0.11369358]]\n",
      "25 day input [0.0527721  0.05921828 0.05712568 0.06126278 0.06361996 0.05455201\n",
      " 0.06292243 0.05488876 0.05950692 0.05924233 0.06405292 0.08192423\n",
      " 0.07398677 0.07420325 0.07304871 0.06898376 0.06167168 0.06535177\n",
      " 0.06381239 0.06111846 0.0594107  0.05943476 0.06316296 0.05017438\n",
      " 0.06008419 0.044546   0.04432952 0.04834636 0.05919423 0.06900782\n",
      " 0.06819002 0.06248948 0.06164762 0.07011425 0.06944077 0.06956103\n",
      " 0.07206254 0.06987372 0.06660253 0.06806975 0.06494287 0.05654841\n",
      " 0.05972339 0.06179194 0.06313891 0.06905592 0.07788334 0.07874925\n",
      " 0.07841251 0.07675286 0.08036079 0.08187613 0.07562237 0.0791341\n",
      " 0.0771377  0.07562237 0.09029465 0.09012628 0.09226699 0.08734817\n",
      " 0.0911365  0.09991581 0.09770295 0.10013229 0.11148527 0.10710764\n",
      " 0.10434155 0.1018641  0.09397474 0.09782321 0.08721587 0.09760673\n",
      " 0.10032471 0.09294047 0.09250752 0.09832642 0.09776524 0.0976834\n",
      " 0.09797449 0.0985165  0.09921069 0.09998936 0.10081053 0.10164984\n",
      " 0.10249358 0.10333376 0.10416536 0.10498503 0.10579041 0.10657999\n",
      " 0.10735301 0.10810932 0.1088494  0.10957428 0.11028533 0.11098419\n",
      " 0.11167266 0.11235252 0.11302561 0.11369358]\n",
      "25 day output [[0.11435804]]\n",
      "26 day input [0.05921828 0.05712568 0.06126278 0.06361996 0.05455201 0.06292243\n",
      " 0.05488876 0.05950692 0.05924233 0.06405292 0.08192423 0.07398677\n",
      " 0.07420325 0.07304871 0.06898376 0.06167168 0.06535177 0.06381239\n",
      " 0.06111846 0.0594107  0.05943476 0.06316296 0.05017438 0.06008419\n",
      " 0.044546   0.04432952 0.04834636 0.05919423 0.06900782 0.06819002\n",
      " 0.06248948 0.06164762 0.07011425 0.06944077 0.06956103 0.07206254\n",
      " 0.06987372 0.06660253 0.06806975 0.06494287 0.05654841 0.05972339\n",
      " 0.06179194 0.06313891 0.06905592 0.07788334 0.07874925 0.07841251\n",
      " 0.07675286 0.08036079 0.08187613 0.07562237 0.0791341  0.0771377\n",
      " 0.07562237 0.09029465 0.09012628 0.09226699 0.08734817 0.0911365\n",
      " 0.09991581 0.09770295 0.10013229 0.11148527 0.10710764 0.10434155\n",
      " 0.1018641  0.09397474 0.09782321 0.08721587 0.09760673 0.10032471\n",
      " 0.09294047 0.09250752 0.09832642 0.09776524 0.0976834  0.09797449\n",
      " 0.0985165  0.09921069 0.09998936 0.10081053 0.10164984 0.10249358\n",
      " 0.10333376 0.10416536 0.10498503 0.10579041 0.10657999 0.10735301\n",
      " 0.10810932 0.1088494  0.10957428 0.11028533 0.11098419 0.11167266\n",
      " 0.11235252 0.11302561 0.11369358 0.11435804]\n",
      "26 day output [[0.11502036]]\n",
      "27 day input [0.05712568 0.06126278 0.06361996 0.05455201 0.06292243 0.05488876\n",
      " 0.05950692 0.05924233 0.06405292 0.08192423 0.07398677 0.07420325\n",
      " 0.07304871 0.06898376 0.06167168 0.06535177 0.06381239 0.06111846\n",
      " 0.0594107  0.05943476 0.06316296 0.05017438 0.06008419 0.044546\n",
      " 0.04432952 0.04834636 0.05919423 0.06900782 0.06819002 0.06248948\n",
      " 0.06164762 0.07011425 0.06944077 0.06956103 0.07206254 0.06987372\n",
      " 0.06660253 0.06806975 0.06494287 0.05654841 0.05972339 0.06179194\n",
      " 0.06313891 0.06905592 0.07788334 0.07874925 0.07841251 0.07675286\n",
      " 0.08036079 0.08187613 0.07562237 0.0791341  0.0771377  0.07562237\n",
      " 0.09029465 0.09012628 0.09226699 0.08734817 0.0911365  0.09991581\n",
      " 0.09770295 0.10013229 0.11148527 0.10710764 0.10434155 0.1018641\n",
      " 0.09397474 0.09782321 0.08721587 0.09760673 0.10032471 0.09294047\n",
      " 0.09250752 0.09832642 0.09776524 0.0976834  0.09797449 0.0985165\n",
      " 0.09921069 0.09998936 0.10081053 0.10164984 0.10249358 0.10333376\n",
      " 0.10416536 0.10498503 0.10579041 0.10657999 0.10735301 0.10810932\n",
      " 0.1088494  0.10957428 0.11028533 0.11098419 0.11167266 0.11235252\n",
      " 0.11302561 0.11369358 0.11435804 0.11502036]\n",
      "27 day output [[0.11568168]]\n",
      "28 day input [0.06126278 0.06361996 0.05455201 0.06292243 0.05488876 0.05950692\n",
      " 0.05924233 0.06405292 0.08192423 0.07398677 0.07420325 0.07304871\n",
      " 0.06898376 0.06167168 0.06535177 0.06381239 0.06111846 0.0594107\n",
      " 0.05943476 0.06316296 0.05017438 0.06008419 0.044546   0.04432952\n",
      " 0.04834636 0.05919423 0.06900782 0.06819002 0.06248948 0.06164762\n",
      " 0.07011425 0.06944077 0.06956103 0.07206254 0.06987372 0.06660253\n",
      " 0.06806975 0.06494287 0.05654841 0.05972339 0.06179194 0.06313891\n",
      " 0.06905592 0.07788334 0.07874925 0.07841251 0.07675286 0.08036079\n",
      " 0.08187613 0.07562237 0.0791341  0.0771377  0.07562237 0.09029465\n",
      " 0.09012628 0.09226699 0.08734817 0.0911365  0.09991581 0.09770295\n",
      " 0.10013229 0.11148527 0.10710764 0.10434155 0.1018641  0.09397474\n",
      " 0.09782321 0.08721587 0.09760673 0.10032471 0.09294047 0.09250752\n",
      " 0.09832642 0.09776524 0.0976834  0.09797449 0.0985165  0.09921069\n",
      " 0.09998936 0.10081053 0.10164984 0.10249358 0.10333376 0.10416536\n",
      " 0.10498503 0.10579041 0.10657999 0.10735301 0.10810932 0.1088494\n",
      " 0.10957428 0.11028533 0.11098419 0.11167266 0.11235252 0.11302561\n",
      " 0.11369358 0.11435804 0.11502036 0.11568168]\n",
      "28 day output [[0.11634305]]\n",
      "29 day input [0.06361996 0.05455201 0.06292243 0.05488876 0.05950692 0.05924233\n",
      " 0.06405292 0.08192423 0.07398677 0.07420325 0.07304871 0.06898376\n",
      " 0.06167168 0.06535177 0.06381239 0.06111846 0.0594107  0.05943476\n",
      " 0.06316296 0.05017438 0.06008419 0.044546   0.04432952 0.04834636\n",
      " 0.05919423 0.06900782 0.06819002 0.06248948 0.06164762 0.07011425\n",
      " 0.06944077 0.06956103 0.07206254 0.06987372 0.06660253 0.06806975\n",
      " 0.06494287 0.05654841 0.05972339 0.06179194 0.06313891 0.06905592\n",
      " 0.07788334 0.07874925 0.07841251 0.07675286 0.08036079 0.08187613\n",
      " 0.07562237 0.0791341  0.0771377  0.07562237 0.09029465 0.09012628\n",
      " 0.09226699 0.08734817 0.0911365  0.09991581 0.09770295 0.10013229\n",
      " 0.11148527 0.10710764 0.10434155 0.1018641  0.09397474 0.09782321\n",
      " 0.08721587 0.09760673 0.10032471 0.09294047 0.09250752 0.09832642\n",
      " 0.09776524 0.0976834  0.09797449 0.0985165  0.09921069 0.09998936\n",
      " 0.10081053 0.10164984 0.10249358 0.10333376 0.10416536 0.10498503\n",
      " 0.10579041 0.10657999 0.10735301 0.10810932 0.1088494  0.10957428\n",
      " 0.11028533 0.11098419 0.11167266 0.11235252 0.11302561 0.11369358\n",
      " 0.11435804 0.11502036 0.11568168 0.11634305]\n"
     ]
    },
    {
     "name": "stdout",
     "output_type": "stream",
     "text": [
      "29 day output [[0.11700524]]\n",
      "[[0.0983264222741127], [0.0977652445435524], [0.09768339991569519], [0.09797448664903641], [0.09851650148630142], [0.0992106944322586], [0.09998936206102371], [0.10081052780151367], [0.10164984315633774], [0.10249358415603638], [0.10333375632762909], [0.10416536033153534], [0.10498502850532532], [0.10579041391611099], [0.10657998919487], [0.10735300928354263], [0.10810931771993637], [0.10884939879179001], [0.10957428067922592], [0.11028532683849335], [0.1109841912984848], [0.11167266219854355], [0.11235252022743225], [0.11302560567855835], [0.11369358003139496], [0.11435803771018982], [0.11502035707235336], [0.11568167805671692], [0.11634305119514465], [0.11700524389743805]]\n"
     ]
    }
   ],
   "source": [
    "from numpy import array\n",
    "\n",
    "lst_output=[]\n",
    "n_steps=100\n",
    "i=0\n",
    "while(i<30):\n",
    "    \n",
    "    if(len(temp_input)>100):                    # this is an alternate step that will be taking place....bcuz of \n",
    "        \n",
    "        x_input=np.array(temp_input[1:])        # just for printing\n",
    "        print(\"{} day input {}\".format(i,x_input))\n",
    "        \n",
    "        x_input= x_input.reshape(1,-1)         #  because now the x_input shape was changed.\n",
    "        x_input = x_input.reshape((1, n_steps, 1)) # again predicting\n",
    "        yhat = model.predict(x_input, verbose=0)\n",
    "        print(\"{} day output {}\".format(i,yhat))\n",
    "        \n",
    "        temp_input.extend(yhat[0].tolist())\n",
    "        temp_input=temp_input[1:]\n",
    "        lst_output.extend(yhat.tolist())\n",
    "        i=i+1\n",
    "    else:\n",
    "        # an LSTM model always requires 3d data as input. (1,100,1)\n",
    "        x_input = x_input.reshape((1, n_steps,1))             # input --->   (1row, 100features, z axis)\n",
    "        yhat = model.predict(x_input, verbose=0)              # output --->   we will get 1 prediction in the end.  \n",
    "        temp_input.extend(yhat[0].tolist())                   # yhat is 2d, we need 1 dimension only as temp_input is 1d.\n",
    "         \n",
    "        lst_output.extend(yhat.tolist())                      # lst_output\n",
    "        i=i+1\n",
    "    \n",
    "\n",
    "print(lst_output)"
   ]
  },
  {
   "cell_type": "code",
   "execution_count": 47,
   "metadata": {},
   "outputs": [
    {
     "data": {
      "text/plain": [
       "30"
      ]
     },
     "execution_count": 47,
     "metadata": {},
     "output_type": "execute_result"
    }
   ],
   "source": [
    "len(lst_output)"
   ]
  },
  {
   "cell_type": "code",
   "execution_count": 48,
   "metadata": {},
   "outputs": [
    {
     "data": {
      "text/plain": [
       "[[0.0983264222741127],\n",
       " [0.0977652445435524],\n",
       " [0.09768339991569519],\n",
       " [0.09797448664903641],\n",
       " [0.09851650148630142],\n",
       " [0.0992106944322586],\n",
       " [0.09998936206102371],\n",
       " [0.10081052780151367],\n",
       " [0.10164984315633774],\n",
       " [0.10249358415603638],\n",
       " [0.10333375632762909],\n",
       " [0.10416536033153534],\n",
       " [0.10498502850532532],\n",
       " [0.10579041391611099],\n",
       " [0.10657998919487],\n",
       " [0.10735300928354263],\n",
       " [0.10810931771993637],\n",
       " [0.10884939879179001],\n",
       " [0.10957428067922592],\n",
       " [0.11028532683849335],\n",
       " [0.1109841912984848],\n",
       " [0.11167266219854355],\n",
       " [0.11235252022743225],\n",
       " [0.11302560567855835],\n",
       " [0.11369358003139496],\n",
       " [0.11435803771018982],\n",
       " [0.11502035707235336],\n",
       " [0.11568167805671692],\n",
       " [0.11634305119514465],\n",
       " [0.11700524389743805]]"
      ]
     },
     "execution_count": 48,
     "metadata": {},
     "output_type": "execute_result"
    }
   ],
   "source": [
    "lst_output"
   ]
  },
  {
   "cell_type": "markdown",
   "metadata": {},
   "source": [
    "## Final plotting for the next 30 days."
   ]
  },
  {
   "cell_type": "code",
   "execution_count": 52,
   "metadata": {},
   "outputs": [],
   "source": [
    "# my x axis\n",
    "\n",
    "x_days_took = np.arange(1,101)\n",
    "x_new_day = np.arange(101,131)"
   ]
  },
  {
   "cell_type": "code",
   "execution_count": 53,
   "metadata": {},
   "outputs": [
    {
     "data": {
      "text/plain": [
       "30"
      ]
     },
     "execution_count": 53,
     "metadata": {},
     "output_type": "execute_result"
    }
   ],
   "source": [
    "len(np.arange(101,131))"
   ]
  },
  {
   "cell_type": "code",
   "execution_count": 58,
   "metadata": {},
   "outputs": [
    {
     "data": {
      "text/plain": [
       "1258"
      ]
     },
     "execution_count": 58,
     "metadata": {},
     "output_type": "execute_result"
    }
   ],
   "source": [
    "101+1157   #1257"
   ]
  },
  {
   "cell_type": "code",
   "execution_count": 68,
   "metadata": {},
   "outputs": [
    {
     "data": {
      "text/plain": [
       "[<matplotlib.lines.Line2D at 0x246640f2880>]"
      ]
     },
     "execution_count": 68,
     "metadata": {},
     "output_type": "execute_result"
    },
    {
     "data": {
      "image/png": "[encoded data removed]",
      "text/plain": [
       "<Figure size 432x288 with 1 Axes>"
      ]
     },
     "metadata": {
      "needs_background": "light"
     },
     "output_type": "display_data"
    }
   ],
   "source": [
    "plt.plot(scaler.inverse_transform(df1))"
   ]
  },
  {
   "cell_type": "code",
   "execution_count": 66,
   "metadata": {},
   "outputs": [
    {
     "data": {
      "text/plain": [
       "[<matplotlib.lines.Line2D at 0x24664043280>]"
      ]
     },
     "execution_count": 66,
     "metadata": {},
     "output_type": "execute_result"
    },
    {
     "data": {
      "image/png": "[encoded data removed]",
      "text/plain": [
       "<Figure size 432x288 with 1 Axes>"
      ]
     },
     "metadata": {
      "needs_background": "light"
     },
     "output_type": "display_data"
    }
   ],
   "source": [
    "plt.plot(x_days_took , scaler.inverse_transform(df1[1157:])) \n",
    "plt.plot(x_new_day , scaler.inverse_transform(lst_output))"
   ]
  },
  {
   "cell_type": "code",
   "execution_count": 63,
   "metadata": {},
   "outputs": [
    {
     "data": {
      "text/plain": [
       "[<matplotlib.lines.Line2D at 0x24663f27670>]"
      ]
     },
     "execution_count": 63,
     "metadata": {},
     "output_type": "execute_result"
    },
    {
     "data": {
      "image/png": "[encoded data removed]",
      "text/plain": [
       "<Figure size 432x288 with 1 Axes>"
      ]
     },
     "metadata": {
      "needs_background": "light"
     },
     "output_type": "display_data"
    }
   ],
   "source": [
    "plt.plot(scaler.inverse_transform(lst_output))"
   ]
  },
  {
   "cell_type": "code",
   "execution_count": 65,
   "metadata": {},
   "outputs": [
    {
     "data": {
      "text/plain": [
       "[<matplotlib.lines.Line2D at 0x24663fd9c70>]"
      ]
     },
     "execution_count": 65,
     "metadata": {},
     "output_type": "execute_result"
    },
    {
     "data": {
      "image/png": "[encoded data removed]",
      "text/plain": [
       "<Figure size 432x288 with 1 Axes>"
      ]
     },
     "metadata": {
      "needs_background": "light"
     },
     "output_type": "display_data"
    }
   ],
   "source": [
    "df3=df1.tolist()\n",
    "df3.extend(lst_output)\n",
    "df3=scaler.inverse_transform(df3).tolist()\n",
    "plt.plot(df3[1150:])"
   ]
  }
 ],
 "metadata": {
  "kernelspec": {
   "display_name": "Python 3",
   "language": "python",
   "name": "python3"
  },
  "language_info": {
   "codemirror_mode": {
    "name": "ipython",
    "version": 3
   },
   "file_extension": ".py",
   "mimetype": "text/x-python",
   "name": "python",
   "nbconvert_exporter": "python",
   "pygments_lexer": "ipython3",
   "version": "3.8.3"
  }
 },
 "nbformat": 4,
 "nbformat_minor": 4
}
